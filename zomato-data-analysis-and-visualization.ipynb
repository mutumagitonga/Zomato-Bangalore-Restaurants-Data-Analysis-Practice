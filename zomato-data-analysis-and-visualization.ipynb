{
 "cells": [
  {
   "cell_type": "markdown",
   "source": [
    "## __Data Cleaning the Restaurant Data__"
   ],
   "metadata": {
    "collapsed": false
   },
   "id": "d026e959b93c1bcd"
  },
  {
   "cell_type": "code",
   "outputs": [],
   "source": [
    "# import key libraries\n",
    "\n",
    "import pandas as pd\n",
    "import numpy as np\n",
    "import matplotlib.pyplot as plt\n",
    "import seaborn as sns"
   ],
   "metadata": {
    "collapsed": false,
    "ExecuteTime": {
     "end_time": "2024-01-31T11:20:02.947666638Z",
     "start_time": "2024-01-31T11:20:02.938478703Z"
    }
   },
   "id": "26c15eafa7051ab1",
   "execution_count": 1
  },
  {
   "cell_type": "markdown",
   "source": [
    "### __Loading data from zomato.csv__"
   ],
   "metadata": {
    "collapsed": false
   },
   "id": "ca799d85cef27312"
  },
  {
   "cell_type": "code",
   "outputs": [
    {
     "data": {
      "text/plain": "                                                 url  \\\n0  https://www.zomato.com/bangalore/jalsa-banasha...   \n1  https://www.zomato.com/bangalore/spice-elephan...   \n2  https://www.zomato.com/SanchurroBangalore?cont...   \n3  https://www.zomato.com/bangalore/addhuri-udupi...   \n4  https://www.zomato.com/bangalore/grand-village...   \n\n                                             address                   name  \\\n0  942, 21st Main Road, 2nd Stage, Banashankari, ...                  Jalsa   \n1  2nd Floor, 80 Feet Road, Near Big Bazaar, 6th ...         Spice Elephant   \n2  1112, Next to KIMS Medical College, 17th Cross...        San Churro Cafe   \n3  1st Floor, Annakuteera, 3rd Stage, Banashankar...  Addhuri Udupi Bhojana   \n4  10, 3rd Floor, Lakshmi Associates, Gandhi Baza...          Grand Village   \n\n  online_order book_table   rate  votes                             phone  \\\n0          Yes        Yes  4.1/5    775    080 42297555\\r\\n+91 9743772233   \n1          Yes         No  4.1/5    787                      080 41714161   \n2          Yes         No  3.8/5    918                    +91 9663487993   \n3           No         No  3.7/5     88                    +91 9620009302   \n4           No         No  3.8/5    166  +91 8026612447\\r\\n+91 9901210005   \n\n       location            rest_type  \\\n0  Banashankari        Casual Dining   \n1  Banashankari        Casual Dining   \n2  Banashankari  Cafe, Casual Dining   \n3  Banashankari          Quick Bites   \n4  Basavanagudi        Casual Dining   \n\n                                          dish_liked  \\\n0  Pasta, Lunch Buffet, Masala Papad, Paneer Laja...   \n1  Momos, Lunch Buffet, Chocolate Nirvana, Thai G...   \n2  Churros, Cannelloni, Minestrone Soup, Hot Choc...   \n3                                        Masala Dosa   \n4                                Panipuri, Gol Gappe   \n\n                         cuisines approx_cost(for two people)  \\\n0  North Indian, Mughlai, Chinese                         800   \n1     Chinese, North Indian, Thai                         800   \n2          Cafe, Mexican, Italian                         800   \n3      South Indian, North Indian                         300   \n4        North Indian, Rajasthani                         600   \n\n                                        reviews_list menu_item  \\\n0  [('Rated 4.0', 'RATED\\n  A beautiful place to ...        []   \n1  [('Rated 4.0', 'RATED\\n  Had been here for din...        []   \n2  [('Rated 3.0', \"RATED\\n  Ambience is not that ...        []   \n3  [('Rated 4.0', \"RATED\\n  Great food and proper...        []   \n4  [('Rated 4.0', 'RATED\\n  Very good restaurant ...        []   \n\n  listed_in(type) listed_in(city)  \n0          Buffet    Banashankari  \n1          Buffet    Banashankari  \n2          Buffet    Banashankari  \n3          Buffet    Banashankari  \n4          Buffet    Banashankari  ",
      "text/html": "<div>\n<style scoped>\n    .dataframe tbody tr th:only-of-type {\n        vertical-align: middle;\n    }\n\n    .dataframe tbody tr th {\n        vertical-align: top;\n    }\n\n    .dataframe thead th {\n        text-align: right;\n    }\n</style>\n<table border=\"1\" class=\"dataframe\">\n  <thead>\n    <tr style=\"text-align: right;\">\n      <th></th>\n      <th>url</th>\n      <th>address</th>\n      <th>name</th>\n      <th>online_order</th>\n      <th>book_table</th>\n      <th>rate</th>\n      <th>votes</th>\n      <th>phone</th>\n      <th>location</th>\n      <th>rest_type</th>\n      <th>dish_liked</th>\n      <th>cuisines</th>\n      <th>approx_cost(for two people)</th>\n      <th>reviews_list</th>\n      <th>menu_item</th>\n      <th>listed_in(type)</th>\n      <th>listed_in(city)</th>\n    </tr>\n  </thead>\n  <tbody>\n    <tr>\n      <th>0</th>\n      <td>https://www.zomato.com/bangalore/jalsa-banasha...</td>\n      <td>942, 21st Main Road, 2nd Stage, Banashankari, ...</td>\n      <td>Jalsa</td>\n      <td>Yes</td>\n      <td>Yes</td>\n      <td>4.1/5</td>\n      <td>775</td>\n      <td>080 42297555\\r\\n+91 9743772233</td>\n      <td>Banashankari</td>\n      <td>Casual Dining</td>\n      <td>Pasta, Lunch Buffet, Masala Papad, Paneer Laja...</td>\n      <td>North Indian, Mughlai, Chinese</td>\n      <td>800</td>\n      <td>[('Rated 4.0', 'RATED\\n  A beautiful place to ...</td>\n      <td>[]</td>\n      <td>Buffet</td>\n      <td>Banashankari</td>\n    </tr>\n    <tr>\n      <th>1</th>\n      <td>https://www.zomato.com/bangalore/spice-elephan...</td>\n      <td>2nd Floor, 80 Feet Road, Near Big Bazaar, 6th ...</td>\n      <td>Spice Elephant</td>\n      <td>Yes</td>\n      <td>No</td>\n      <td>4.1/5</td>\n      <td>787</td>\n      <td>080 41714161</td>\n      <td>Banashankari</td>\n      <td>Casual Dining</td>\n      <td>Momos, Lunch Buffet, Chocolate Nirvana, Thai G...</td>\n      <td>Chinese, North Indian, Thai</td>\n      <td>800</td>\n      <td>[('Rated 4.0', 'RATED\\n  Had been here for din...</td>\n      <td>[]</td>\n      <td>Buffet</td>\n      <td>Banashankari</td>\n    </tr>\n    <tr>\n      <th>2</th>\n      <td>https://www.zomato.com/SanchurroBangalore?cont...</td>\n      <td>1112, Next to KIMS Medical College, 17th Cross...</td>\n      <td>San Churro Cafe</td>\n      <td>Yes</td>\n      <td>No</td>\n      <td>3.8/5</td>\n      <td>918</td>\n      <td>+91 9663487993</td>\n      <td>Banashankari</td>\n      <td>Cafe, Casual Dining</td>\n      <td>Churros, Cannelloni, Minestrone Soup, Hot Choc...</td>\n      <td>Cafe, Mexican, Italian</td>\n      <td>800</td>\n      <td>[('Rated 3.0', \"RATED\\n  Ambience is not that ...</td>\n      <td>[]</td>\n      <td>Buffet</td>\n      <td>Banashankari</td>\n    </tr>\n    <tr>\n      <th>3</th>\n      <td>https://www.zomato.com/bangalore/addhuri-udupi...</td>\n      <td>1st Floor, Annakuteera, 3rd Stage, Banashankar...</td>\n      <td>Addhuri Udupi Bhojana</td>\n      <td>No</td>\n      <td>No</td>\n      <td>3.7/5</td>\n      <td>88</td>\n      <td>+91 9620009302</td>\n      <td>Banashankari</td>\n      <td>Quick Bites</td>\n      <td>Masala Dosa</td>\n      <td>South Indian, North Indian</td>\n      <td>300</td>\n      <td>[('Rated 4.0', \"RATED\\n  Great food and proper...</td>\n      <td>[]</td>\n      <td>Buffet</td>\n      <td>Banashankari</td>\n    </tr>\n    <tr>\n      <th>4</th>\n      <td>https://www.zomato.com/bangalore/grand-village...</td>\n      <td>10, 3rd Floor, Lakshmi Associates, Gandhi Baza...</td>\n      <td>Grand Village</td>\n      <td>No</td>\n      <td>No</td>\n      <td>3.8/5</td>\n      <td>166</td>\n      <td>+91 8026612447\\r\\n+91 9901210005</td>\n      <td>Basavanagudi</td>\n      <td>Casual Dining</td>\n      <td>Panipuri, Gol Gappe</td>\n      <td>North Indian, Rajasthani</td>\n      <td>600</td>\n      <td>[('Rated 4.0', 'RATED\\n  Very good restaurant ...</td>\n      <td>[]</td>\n      <td>Buffet</td>\n      <td>Banashankari</td>\n    </tr>\n  </tbody>\n</table>\n</div>"
     },
     "execution_count": 3,
     "metadata": {},
     "output_type": "execute_result"
    }
   ],
   "source": [
    "df = pd.read_csv('zomato.csv')\n",
    "df.head()"
   ],
   "metadata": {
    "collapsed": false,
    "ExecuteTime": {
     "end_time": "2024-01-31T11:38:02.939043421Z",
     "start_time": "2024-01-31T11:37:55.460568972Z"
    }
   },
   "id": "10891709bd253910",
   "execution_count": 3
  },
  {
   "cell_type": "markdown",
   "source": [
    "### Get the shape of the DataFrame: Rows and columns"
   ],
   "metadata": {
    "collapsed": false
   },
   "id": "aa95608abc492e6b"
  },
  {
   "cell_type": "code",
   "outputs": [
    {
     "data": {
      "text/plain": "(51717, 17)"
     },
     "execution_count": 9,
     "metadata": {},
     "output_type": "execute_result"
    }
   ],
   "source": [
    "df.shape"
   ],
   "metadata": {
    "collapsed": false,
    "ExecuteTime": {
     "end_time": "2024-01-31T11:47:19.048724907Z",
     "start_time": "2024-01-31T11:47:19.044839630Z"
    }
   },
   "id": "8070b4b195036b61",
   "execution_count": 9
  },
  {
   "cell_type": "markdown",
   "source": [
    "### Get summary info on the DataFrame"
   ],
   "metadata": {
    "collapsed": false
   },
   "id": "499b8f4a3a5c7faa"
  },
  {
   "cell_type": "code",
   "outputs": [
    {
     "name": "stdout",
     "output_type": "stream",
     "text": [
      "<class 'pandas.core.frame.DataFrame'>\n",
      "RangeIndex: 51717 entries, 0 to 51716\n",
      "Data columns (total 17 columns):\n",
      " #   Column                       Non-Null Count  Dtype \n",
      "---  ------                       --------------  ----- \n",
      " 0   url                          51717 non-null  object\n",
      " 1   address                      51717 non-null  object\n",
      " 2   name                         51717 non-null  object\n",
      " 3   online_order                 51717 non-null  object\n",
      " 4   book_table                   51717 non-null  object\n",
      " 5   rate                         43942 non-null  object\n",
      " 6   votes                        51717 non-null  int64 \n",
      " 7   phone                        50509 non-null  object\n",
      " 8   location                     51696 non-null  object\n",
      " 9   rest_type                    51490 non-null  object\n",
      " 10  dish_liked                   23639 non-null  object\n",
      " 11  cuisines                     51672 non-null  object\n",
      " 12  approx_cost(for two people)  51371 non-null  object\n",
      " 13  reviews_list                 51717 non-null  object\n",
      " 14  menu_item                    51717 non-null  object\n",
      " 15  listed_in(type)              51717 non-null  object\n",
      " 16  listed_in(city)              51717 non-null  object\n",
      "dtypes: int64(1), object(16)\n",
      "memory usage: 6.7+ MB\n"
     ]
    }
   ],
   "source": [
    "df.info()"
   ],
   "metadata": {
    "collapsed": false,
    "ExecuteTime": {
     "end_time": "2024-01-31T11:47:23.969206257Z",
     "start_time": "2024-01-31T11:47:23.960650397Z"
    }
   },
   "id": "d91f3d05ab4e983d",
   "execution_count": 10
  }
 ],
 "metadata": {
  "kernelspec": {
   "display_name": "Python 3",
   "language": "python",
   "name": "python3"
  },
  "language_info": {
   "codemirror_mode": {
    "name": "ipython",
    "version": 2
   },
   "file_extension": ".py",
   "mimetype": "text/x-python",
   "name": "python",
   "nbconvert_exporter": "python",
   "pygments_lexer": "ipython2",
   "version": "2.7.6"
  }
 },
 "nbformat": 4,
 "nbformat_minor": 5
}
