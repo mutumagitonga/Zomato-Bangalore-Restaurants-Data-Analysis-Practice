{
 "cells": [
  {
   "cell_type": "markdown",
   "source": [
    "## __Data Cleaning the Restaurant Data__"
   ],
   "metadata": {
    "collapsed": false
   },
   "id": "d026e959b93c1bcd"
  },
  {
   "cell_type": "code",
   "outputs": [],
   "source": [
    "# import key libraries\n",
    "\n",
    "import pandas as pd\n",
    "import numpy as np\n",
    "import matplotlib.pyplot as plt\n",
    "import seaborn as sns"
   ],
   "metadata": {
    "collapsed": false,
    "is_executing": true
   },
   "id": "26c15eafa7051ab1",
   "execution_count": null
  },
  {
   "cell_type": "markdown",
   "source": [
    "### __Loading data from zomato.csv__"
   ],
   "metadata": {
    "collapsed": false
   },
   "id": "ca799d85cef27312"
  },
  {
   "cell_type": "code",
   "outputs": [
    {
     "data": {
      "text/plain": "                                                 url  \\\n0  https://www.zomato.com/bangalore/jalsa-banasha...   \n1  https://www.zomato.com/bangalore/spice-elephan...   \n2  https://www.zomato.com/SanchurroBangalore?cont...   \n3  https://www.zomato.com/bangalore/addhuri-udupi...   \n4  https://www.zomato.com/bangalore/grand-village...   \n\n                                             address                   name  \\\n0  942, 21st Main Road, 2nd Stage, Banashankari, ...                  Jalsa   \n1  2nd Floor, 80 Feet Road, Near Big Bazaar, 6th ...         Spice Elephant   \n2  1112, Next to KIMS Medical College, 17th Cross...        San Churro Cafe   \n3  1st Floor, Annakuteera, 3rd Stage, Banashankar...  Addhuri Udupi Bhojana   \n4  10, 3rd Floor, Lakshmi Associates, Gandhi Baza...          Grand Village   \n\n  online_order book_table   rate  votes                             phone  \\\n0          Yes        Yes  4.1/5    775    080 42297555\\r\\n+91 9743772233   \n1          Yes         No  4.1/5    787                      080 41714161   \n2          Yes         No  3.8/5    918                    +91 9663487993   \n3           No         No  3.7/5     88                    +91 9620009302   \n4           No         No  3.8/5    166  +91 8026612447\\r\\n+91 9901210005   \n\n       location            rest_type  \\\n0  Banashankari        Casual Dining   \n1  Banashankari        Casual Dining   \n2  Banashankari  Cafe, Casual Dining   \n3  Banashankari          Quick Bites   \n4  Basavanagudi        Casual Dining   \n\n                                          dish_liked  \\\n0  Pasta, Lunch Buffet, Masala Papad, Paneer Laja...   \n1  Momos, Lunch Buffet, Chocolate Nirvana, Thai G...   \n2  Churros, Cannelloni, Minestrone Soup, Hot Choc...   \n3                                        Masala Dosa   \n4                                Panipuri, Gol Gappe   \n\n                         cuisines approx_cost(for two people)  \\\n0  North Indian, Mughlai, Chinese                         800   \n1     Chinese, North Indian, Thai                         800   \n2          Cafe, Mexican, Italian                         800   \n3      South Indian, North Indian                         300   \n4        North Indian, Rajasthani                         600   \n\n                                        reviews_list menu_item  \\\n0  [('Rated 4.0', 'RATED\\n  A beautiful place to ...        []   \n1  [('Rated 4.0', 'RATED\\n  Had been here for din...        []   \n2  [('Rated 3.0', \"RATED\\n  Ambience is not that ...        []   \n3  [('Rated 4.0', \"RATED\\n  Great food and proper...        []   \n4  [('Rated 4.0', 'RATED\\n  Very good restaurant ...        []   \n\n  listed_in(type) listed_in(city)  \n0          Buffet    Banashankari  \n1          Buffet    Banashankari  \n2          Buffet    Banashankari  \n3          Buffet    Banashankari  \n4          Buffet    Banashankari  ",
      "text/html": "<div>\n<style scoped>\n    .dataframe tbody tr th:only-of-type {\n        vertical-align: middle;\n    }\n\n    .dataframe tbody tr th {\n        vertical-align: top;\n    }\n\n    .dataframe thead th {\n        text-align: right;\n    }\n</style>\n<table border=\"1\" class=\"dataframe\">\n  <thead>\n    <tr style=\"text-align: right;\">\n      <th></th>\n      <th>url</th>\n      <th>address</th>\n      <th>name</th>\n      <th>online_order</th>\n      <th>book_table</th>\n      <th>rate</th>\n      <th>votes</th>\n      <th>phone</th>\n      <th>location</th>\n      <th>rest_type</th>\n      <th>dish_liked</th>\n      <th>cuisines</th>\n      <th>approx_cost(for two people)</th>\n      <th>reviews_list</th>\n      <th>menu_item</th>\n      <th>listed_in(type)</th>\n      <th>listed_in(city)</th>\n    </tr>\n  </thead>\n  <tbody>\n    <tr>\n      <th>0</th>\n      <td>https://www.zomato.com/bangalore/jalsa-banasha...</td>\n      <td>942, 21st Main Road, 2nd Stage, Banashankari, ...</td>\n      <td>Jalsa</td>\n      <td>Yes</td>\n      <td>Yes</td>\n      <td>4.1/5</td>\n      <td>775</td>\n      <td>080 42297555\\r\\n+91 9743772233</td>\n      <td>Banashankari</td>\n      <td>Casual Dining</td>\n      <td>Pasta, Lunch Buffet, Masala Papad, Paneer Laja...</td>\n      <td>North Indian, Mughlai, Chinese</td>\n      <td>800</td>\n      <td>[('Rated 4.0', 'RATED\\n  A beautiful place to ...</td>\n      <td>[]</td>\n      <td>Buffet</td>\n      <td>Banashankari</td>\n    </tr>\n    <tr>\n      <th>1</th>\n      <td>https://www.zomato.com/bangalore/spice-elephan...</td>\n      <td>2nd Floor, 80 Feet Road, Near Big Bazaar, 6th ...</td>\n      <td>Spice Elephant</td>\n      <td>Yes</td>\n      <td>No</td>\n      <td>4.1/5</td>\n      <td>787</td>\n      <td>080 41714161</td>\n      <td>Banashankari</td>\n      <td>Casual Dining</td>\n      <td>Momos, Lunch Buffet, Chocolate Nirvana, Thai G...</td>\n      <td>Chinese, North Indian, Thai</td>\n      <td>800</td>\n      <td>[('Rated 4.0', 'RATED\\n  Had been here for din...</td>\n      <td>[]</td>\n      <td>Buffet</td>\n      <td>Banashankari</td>\n    </tr>\n    <tr>\n      <th>2</th>\n      <td>https://www.zomato.com/SanchurroBangalore?cont...</td>\n      <td>1112, Next to KIMS Medical College, 17th Cross...</td>\n      <td>San Churro Cafe</td>\n      <td>Yes</td>\n      <td>No</td>\n      <td>3.8/5</td>\n      <td>918</td>\n      <td>+91 9663487993</td>\n      <td>Banashankari</td>\n      <td>Cafe, Casual Dining</td>\n      <td>Churros, Cannelloni, Minestrone Soup, Hot Choc...</td>\n      <td>Cafe, Mexican, Italian</td>\n      <td>800</td>\n      <td>[('Rated 3.0', \"RATED\\n  Ambience is not that ...</td>\n      <td>[]</td>\n      <td>Buffet</td>\n      <td>Banashankari</td>\n    </tr>\n    <tr>\n      <th>3</th>\n      <td>https://www.zomato.com/bangalore/addhuri-udupi...</td>\n      <td>1st Floor, Annakuteera, 3rd Stage, Banashankar...</td>\n      <td>Addhuri Udupi Bhojana</td>\n      <td>No</td>\n      <td>No</td>\n      <td>3.7/5</td>\n      <td>88</td>\n      <td>+91 9620009302</td>\n      <td>Banashankari</td>\n      <td>Quick Bites</td>\n      <td>Masala Dosa</td>\n      <td>South Indian, North Indian</td>\n      <td>300</td>\n      <td>[('Rated 4.0', \"RATED\\n  Great food and proper...</td>\n      <td>[]</td>\n      <td>Buffet</td>\n      <td>Banashankari</td>\n    </tr>\n    <tr>\n      <th>4</th>\n      <td>https://www.zomato.com/bangalore/grand-village...</td>\n      <td>10, 3rd Floor, Lakshmi Associates, Gandhi Baza...</td>\n      <td>Grand Village</td>\n      <td>No</td>\n      <td>No</td>\n      <td>3.8/5</td>\n      <td>166</td>\n      <td>+91 8026612447\\r\\n+91 9901210005</td>\n      <td>Basavanagudi</td>\n      <td>Casual Dining</td>\n      <td>Panipuri, Gol Gappe</td>\n      <td>North Indian, Rajasthani</td>\n      <td>600</td>\n      <td>[('Rated 4.0', 'RATED\\n  Very good restaurant ...</td>\n      <td>[]</td>\n      <td>Buffet</td>\n      <td>Banashankari</td>\n    </tr>\n  </tbody>\n</table>\n</div>"
     },
     "execution_count": 120,
     "metadata": {},
     "output_type": "execute_result"
    }
   ],
   "source": [
    "df = pd.read_csv('zomato.csv')\n",
    "df.head()"
   ],
   "metadata": {
    "collapsed": false,
    "ExecuteTime": {
     "end_time": "2024-02-02T13:32:03.598472470Z",
     "start_time": "2024-02-02T13:31:59.784349842Z"
    }
   },
   "id": "10891709bd253910",
   "execution_count": 120
  },
  {
   "cell_type": "markdown",
   "source": [
    "### Get the shape of the DataFrame: Rows and columns"
   ],
   "metadata": {
    "collapsed": false
   },
   "id": "aa95608abc492e6b"
  },
  {
   "cell_type": "code",
   "outputs": [
    {
     "data": {
      "text/plain": "(51717, 17)"
     },
     "execution_count": 121,
     "metadata": {},
     "output_type": "execute_result"
    }
   ],
   "source": [
    "df.shape"
   ],
   "metadata": {
    "collapsed": false,
    "ExecuteTime": {
     "end_time": "2024-02-02T13:32:03.600106692Z",
     "start_time": "2024-02-02T13:32:03.514792208Z"
    }
   },
   "id": "8070b4b195036b61",
   "execution_count": 121
  },
  {
   "cell_type": "markdown",
   "source": [
    "### Check columns"
   ],
   "metadata": {
    "collapsed": false
   },
   "id": "d0e210f58bf9d82e"
  },
  {
   "cell_type": "code",
   "outputs": [
    {
     "data": {
      "text/plain": "Index(['url', 'address', 'name', 'online_order', 'book_table', 'rate', 'votes',\n       'phone', 'location', 'rest_type', 'dish_liked', 'cuisines',\n       'approx_cost(for two people)', 'reviews_list', 'menu_item',\n       'listed_in(type)', 'listed_in(city)'],\n      dtype='object')"
     },
     "execution_count": 122,
     "metadata": {},
     "output_type": "execute_result"
    }
   ],
   "source": [
    "df.columns"
   ],
   "metadata": {
    "collapsed": false,
    "ExecuteTime": {
     "end_time": "2024-02-02T13:32:03.664146855Z",
     "start_time": "2024-02-02T13:32:03.514942015Z"
    }
   },
   "id": "dd3691a39873e236",
   "execution_count": 122
  },
  {
   "cell_type": "markdown",
   "source": [
    "### Drop redundant/unnecessary columns"
   ],
   "metadata": {
    "collapsed": false
   },
   "id": "137c4e5979fc75b"
  },
  {
   "cell_type": "code",
   "outputs": [],
   "source": [
    "# Remove url, address, phone, dish_liked, reviews_list, menu_item\n",
    "df = df.drop(['url', 'address', 'phone', 'dish_liked', 'reviews_list', 'menu_item'], axis=1)"
   ],
   "metadata": {
    "collapsed": false,
    "ExecuteTime": {
     "end_time": "2024-02-02T13:32:03.686143998Z",
     "start_time": "2024-02-02T13:32:03.545995280Z"
    }
   },
   "id": "94ea8dd5bc9ccf57",
   "execution_count": 123
  },
  {
   "cell_type": "markdown",
   "source": [
    "### Drop any duplicate rows"
   ],
   "metadata": {
    "collapsed": false
   },
   "id": "5c55d7bcae20a2e0"
  },
  {
   "cell_type": "code",
   "outputs": [
    {
     "data": {
      "text/plain": "(51717, 11)"
     },
     "execution_count": 124,
     "metadata": {},
     "output_type": "execute_result"
    }
   ],
   "source": [
    "df.shape"
   ],
   "metadata": {
    "collapsed": false,
    "ExecuteTime": {
     "end_time": "2024-02-02T13:32:03.730992467Z",
     "start_time": "2024-02-02T13:32:03.643433542Z"
    }
   },
   "id": "7dbff3ba0ed792cb",
   "execution_count": 124
  },
  {
   "cell_type": "code",
   "outputs": [],
   "source": [
    "df.drop_duplicates(inplace=True)"
   ],
   "metadata": {
    "collapsed": false,
    "ExecuteTime": {
     "end_time": "2024-02-02T13:32:03.794636247Z",
     "start_time": "2024-02-02T13:32:03.700053385Z"
    }
   },
   "id": "b41606337d088f4f",
   "execution_count": 125
  },
  {
   "cell_type": "code",
   "outputs": [
    {
     "data": {
      "text/plain": "(51609, 11)"
     },
     "execution_count": 126,
     "metadata": {},
     "output_type": "execute_result"
    }
   ],
   "source": [
    "df.shape"
   ],
   "metadata": {
    "collapsed": false,
    "ExecuteTime": {
     "end_time": "2024-02-02T13:32:03.840552626Z",
     "start_time": "2024-02-02T13:32:03.838817596Z"
    }
   },
   "id": "585444d2ef0f1c",
   "execution_count": 126
  },
  {
   "cell_type": "markdown",
   "source": [
    "### Renaming columns\n",
    "- __First inspect columns to rename with df.columns command__\n",
    "- __Then delete similar columns__"
   ],
   "metadata": {
    "collapsed": false
   },
   "id": "26df3698c0ba9e33"
  },
  {
   "cell_type": "code",
   "outputs": [
    {
     "data": {
      "text/plain": "['name',\n 'online_order',\n 'book_table',\n 'rate',\n 'votes',\n 'location',\n 'rest_type',\n 'cuisines',\n 'approx_cost(for two people)',\n 'listed_in(type)',\n 'listed_in(city)']"
     },
     "execution_count": 127,
     "metadata": {},
     "output_type": "execute_result"
    }
   ],
   "source": [
    "df.columns.tolist()"
   ],
   "metadata": {
    "collapsed": false,
    "ExecuteTime": {
     "end_time": "2024-02-02T13:32:03.918740223Z",
     "start_time": "2024-02-02T13:32:03.839057516Z"
    }
   },
   "id": "82562bec123dfe8e",
   "execution_count": 127
  },
  {
   "cell_type": "code",
   "outputs": [],
   "source": [
    "# The lengthy approx_cost(for two people) can be shortened to 'cost2plates'\n",
    "# While listed_in(type) can simply be renamed 'type'\n",
    "# 'location' can also be renamed 'city'\n",
    "df.rename(columns={'approx_cost(for two people)':'cost2plates', 'listed_in(type)':'serving_style', 'location':'city'},inplace=True)"
   ],
   "metadata": {
    "collapsed": false,
    "ExecuteTime": {
     "end_time": "2024-02-02T13:32:03.983057151Z",
     "start_time": "2024-02-02T13:32:03.893479481Z"
    }
   },
   "id": "88ef30b4d4cb617c",
   "execution_count": 128
  },
  {
   "cell_type": "markdown",
   "source": [
    "### Confirm that the columns are well renamed"
   ],
   "metadata": {
    "collapsed": false
   },
   "id": "792580f5f40a5127"
  },
  {
   "cell_type": "code",
   "outputs": [
    {
     "data": {
      "text/plain": "['name',\n 'online_order',\n 'book_table',\n 'rate',\n 'votes',\n 'city',\n 'rest_type',\n 'cuisines',\n 'cost2plates',\n 'serving_style',\n 'listed_in(city)']"
     },
     "execution_count": 129,
     "metadata": {},
     "output_type": "execute_result"
    }
   ],
   "source": [
    "df.columns.tolist()"
   ],
   "metadata": {
    "collapsed": false,
    "ExecuteTime": {
     "end_time": "2024-02-02T13:32:04.031639969Z",
     "start_time": "2024-02-02T13:32:03.982921913Z"
    }
   },
   "id": "d418546f8f9ebde2",
   "execution_count": 129
  },
  {
   "cell_type": "markdown",
   "source": [
    "### Checking similar columns & dropping redundant ones\n",
    "- __Observing the columns above, compare 'city' and 'listed_in(city)'__\n",
    "- __Load the 2 into a new dataframe for easy comparison as below__"
   ],
   "metadata": {
    "collapsed": false
   },
   "id": "f2ae7ea3fe5b5eb7"
  },
  {
   "cell_type": "markdown",
   "source": [
    "#### Method 1: Short, using .unique() on each column individually"
   ],
   "metadata": {
    "collapsed": false
   },
   "id": "aae48679c312cd31"
  },
  {
   "cell_type": "markdown",
   "source": [
    "__Checking unique 'city' names__"
   ],
   "metadata": {
    "collapsed": false
   },
   "id": "99eeff236ff01e9f"
  },
  {
   "cell_type": "code",
   "outputs": [
    {
     "data": {
      "text/plain": "['Banashankari',\n 'Basavanagudi',\n 'Mysore Road',\n 'Jayanagar',\n 'Kumaraswamy Layout',\n 'Rajarajeshwari Nagar',\n 'Vijay Nagar',\n 'Uttarahalli',\n 'JP Nagar',\n 'South Bangalore',\n 'City Market',\n 'Nagarbhavi',\n 'Bannerghatta Road',\n 'BTM',\n 'Kanakapura Road',\n 'Bommanahalli',\n nan,\n 'CV Raman Nagar',\n 'Electronic City',\n 'HSR',\n 'Marathahalli',\n 'Sarjapur Road',\n 'Wilson Garden',\n 'Shanti Nagar',\n 'Koramangala 5th Block',\n 'Koramangala 8th Block',\n 'Richmond Road',\n 'Koramangala 7th Block',\n 'Jalahalli',\n 'Koramangala 4th Block',\n 'Bellandur',\n 'Whitefield',\n 'East Bangalore',\n 'Old Airport Road',\n 'Indiranagar',\n 'Koramangala 1st Block',\n 'Frazer Town',\n 'RT Nagar',\n 'MG Road',\n 'Brigade Road',\n 'Lavelle Road',\n 'Church Street',\n 'Ulsoor',\n 'Residency Road',\n 'Shivajinagar',\n 'Infantry Road',\n 'St. Marks Road',\n 'Cunningham Road',\n 'Race Course Road',\n 'Commercial Street',\n 'Vasanth Nagar',\n 'HBR Layout',\n 'Domlur',\n 'Ejipura',\n 'Jeevan Bhima Nagar',\n 'Old Madras Road',\n 'Malleshwaram',\n 'Seshadripuram',\n 'Kammanahalli',\n 'Koramangala 6th Block',\n 'Majestic',\n 'Langford Town',\n 'Central Bangalore',\n 'Sanjay Nagar',\n 'Brookefield',\n 'ITPL Main Road, Whitefield',\n 'Varthur Main Road, Whitefield',\n 'KR Puram',\n 'Koramangala 2nd Block',\n 'Koramangala 3rd Block',\n 'Koramangala',\n 'Hosur Road',\n 'Rajajinagar',\n 'Banaswadi',\n 'North Bangalore',\n 'Nagawara',\n 'Hennur',\n 'Kalyan Nagar',\n 'New BEL Road',\n 'Jakkur',\n 'Rammurthy Nagar',\n 'Thippasandra',\n 'Kaggadasapura',\n 'Hebbal',\n 'Kengeri',\n 'Sankey Road',\n 'Sadashiv Nagar',\n 'Basaveshwara Nagar',\n 'Yeshwantpur',\n 'West Bangalore',\n 'Magadi Road',\n 'Yelahanka',\n 'Sahakara Nagar',\n 'Peenya']"
     },
     "execution_count": 130,
     "metadata": {},
     "output_type": "execute_result"
    }
   ],
   "source": [
    "df['city'].unique().tolist()"
   ],
   "metadata": {
    "collapsed": false,
    "ExecuteTime": {
     "end_time": "2024-02-02T13:32:04.080433442Z",
     "start_time": "2024-02-02T13:32:04.030758516Z"
    }
   },
   "id": "f988bfcbb2da3c22",
   "execution_count": 130
  },
  {
   "cell_type": "markdown",
   "source": [
    "__Viewing unique 'listed_in(city)' names:__"
   ],
   "metadata": {
    "collapsed": false
   },
   "id": "bb8b841719fb9953"
  },
  {
   "cell_type": "code",
   "outputs": [
    {
     "data": {
      "text/plain": "['Banashankari',\n 'Bannerghatta Road',\n 'Basavanagudi',\n 'Bellandur',\n 'Brigade Road',\n 'Brookefield',\n 'BTM',\n 'Church Street',\n 'Electronic City',\n 'Frazer Town',\n 'HSR',\n 'Indiranagar',\n 'Jayanagar',\n 'JP Nagar',\n 'Kalyan Nagar',\n 'Kammanahalli',\n 'Koramangala 4th Block',\n 'Koramangala 5th Block',\n 'Koramangala 6th Block',\n 'Koramangala 7th Block',\n 'Lavelle Road',\n 'Malleshwaram',\n 'Marathahalli',\n 'MG Road',\n 'New BEL Road',\n 'Old Airport Road',\n 'Rajajinagar',\n 'Residency Road',\n 'Sarjapur Road',\n 'Whitefield']"
     },
     "execution_count": 131,
     "metadata": {},
     "output_type": "execute_result"
    }
   ],
   "source": [
    "df['listed_in(city)'].unique().tolist()"
   ],
   "metadata": {
    "collapsed": false,
    "ExecuteTime": {
     "end_time": "2024-02-02T13:32:04.140462111Z",
     "start_time": "2024-02-02T13:32:04.074817743Z"
    }
   },
   "id": "6707745baeccf1a4",
   "execution_count": 131
  },
  {
   "cell_type": "markdown",
   "source": [
    "#### Method 2: Using longer code (Checking unique vals in both columns simultaneously)"
   ],
   "metadata": {
    "collapsed": false
   },
   "id": "cfe9b7610f775921"
  },
  {
   "cell_type": "code",
   "outputs": [
    {
     "data": {
      "text/plain": "                  city    listed_in(city)\n0         Banashankari       Banashankari\n1         Basavanagudi  Bannerghatta Road\n2          Mysore Road       Basavanagudi\n3            Jayanagar          Bellandur\n4   Kumaraswamy Layout       Brigade Road\n..                 ...                ...\n89      West Bangalore                NaN\n90         Magadi Road                NaN\n91           Yelahanka                NaN\n92      Sahakara Nagar                NaN\n93              Peenya                NaN\n\n[94 rows x 2 columns]",
      "text/html": "<div>\n<style scoped>\n    .dataframe tbody tr th:only-of-type {\n        vertical-align: middle;\n    }\n\n    .dataframe tbody tr th {\n        vertical-align: top;\n    }\n\n    .dataframe thead th {\n        text-align: right;\n    }\n</style>\n<table border=\"1\" class=\"dataframe\">\n  <thead>\n    <tr style=\"text-align: right;\">\n      <th></th>\n      <th>city</th>\n      <th>listed_in(city)</th>\n    </tr>\n  </thead>\n  <tbody>\n    <tr>\n      <th>0</th>\n      <td>Banashankari</td>\n      <td>Banashankari</td>\n    </tr>\n    <tr>\n      <th>1</th>\n      <td>Basavanagudi</td>\n      <td>Bannerghatta Road</td>\n    </tr>\n    <tr>\n      <th>2</th>\n      <td>Mysore Road</td>\n      <td>Basavanagudi</td>\n    </tr>\n    <tr>\n      <th>3</th>\n      <td>Jayanagar</td>\n      <td>Bellandur</td>\n    </tr>\n    <tr>\n      <th>4</th>\n      <td>Kumaraswamy Layout</td>\n      <td>Brigade Road</td>\n    </tr>\n    <tr>\n      <th>...</th>\n      <td>...</td>\n      <td>...</td>\n    </tr>\n    <tr>\n      <th>89</th>\n      <td>West Bangalore</td>\n      <td>NaN</td>\n    </tr>\n    <tr>\n      <th>90</th>\n      <td>Magadi Road</td>\n      <td>NaN</td>\n    </tr>\n    <tr>\n      <th>91</th>\n      <td>Yelahanka</td>\n      <td>NaN</td>\n    </tr>\n    <tr>\n      <th>92</th>\n      <td>Sahakara Nagar</td>\n      <td>NaN</td>\n    </tr>\n    <tr>\n      <th>93</th>\n      <td>Peenya</td>\n      <td>NaN</td>\n    </tr>\n  </tbody>\n</table>\n<p>94 rows × 2 columns</p>\n</div>"
     },
     "execution_count": 132,
     "metadata": {},
     "output_type": "execute_result"
    }
   ],
   "source": [
    "# Get numpy arrays with unique values from each of the 2 columns\n",
    "city_columns_arrays = [df['city'].unique(), df['listed_in(city)'].unique()]\n",
    "# Store column names to include in final data frame\n",
    "column_names = ['city','listed_in(city)']\n",
    "# Convert numpy arrays above into an iterable Pandas series using list comprehension\n",
    "city_columns_arrays_series = [pd.Series(arr) for arr in city_columns_arrays]\n",
    "# Concatenate the above Pandas Series into a single dataframe along col axis\n",
    "city_columns_df = pd.concat(city_columns_arrays_series, axis=1, keys=column_names)\n",
    "city_columns_df"
   ],
   "metadata": {
    "collapsed": false,
    "ExecuteTime": {
     "end_time": "2024-02-02T13:32:04.228603604Z",
     "start_time": "2024-02-02T13:32:04.139764898Z"
    }
   },
   "id": "bf953ec7ae63d3c7",
   "execution_count": 132
  },
  {
   "cell_type": "markdown",
   "source": [
    "### Comparison results:\n",
    "__-From the above, it is clear that both are more or less city names__\n",
    "__-Hence one column shall be dropped: 'listed_in(city)'|__"
   ],
   "metadata": {
    "collapsed": false
   },
   "id": "349f37ba744e1ba9"
  },
  {
   "cell_type": "code",
   "outputs": [
    {
     "data": {
      "text/plain": "(51609, 11)"
     },
     "execution_count": 133,
     "metadata": {},
     "output_type": "execute_result"
    }
   ],
   "source": [
    "# Check df shape first\n",
    "df.shape"
   ],
   "metadata": {
    "collapsed": false,
    "ExecuteTime": {
     "end_time": "2024-02-02T13:32:04.294784663Z",
     "start_time": "2024-02-02T13:32:04.227197226Z"
    }
   },
   "id": "6c33e864f110b147",
   "execution_count": 133
  },
  {
   "cell_type": "code",
   "outputs": [],
   "source": [
    "df = df.drop(['listed_in(city)'], axis=1)"
   ],
   "metadata": {
    "collapsed": false,
    "ExecuteTime": {
     "end_time": "2024-02-02T13:32:04.420305438Z",
     "start_time": "2024-02-02T13:32:04.284424120Z"
    }
   },
   "id": "b432745c4bd3a060",
   "execution_count": 134
  },
  {
   "cell_type": "code",
   "outputs": [
    {
     "data": {
      "text/plain": "(51609, 10)"
     },
     "execution_count": 135,
     "metadata": {},
     "output_type": "execute_result"
    }
   ],
   "source": [
    "# Check shape after\n",
    "df.shape"
   ],
   "metadata": {
    "collapsed": false,
    "ExecuteTime": {
     "end_time": "2024-02-02T13:32:04.472336105Z",
     "start_time": "2024-02-02T13:32:04.422788229Z"
    }
   },
   "id": "640385b4afe6d909",
   "execution_count": 135
  },
  {
   "cell_type": "markdown",
   "source": [
    "### View DataFrame after dropping 'listed_in(city)' column"
   ],
   "metadata": {
    "collapsed": false
   },
   "id": "7a09865976e1ed52"
  },
  {
   "cell_type": "code",
   "outputs": [
    {
     "data": {
      "text/plain": "                    name online_order book_table   rate  votes          city  \\\n0                  Jalsa          Yes        Yes  4.1/5    775  Banashankari   \n1         Spice Elephant          Yes         No  4.1/5    787  Banashankari   \n2        San Churro Cafe          Yes         No  3.8/5    918  Banashankari   \n3  Addhuri Udupi Bhojana           No         No  3.7/5     88  Banashankari   \n4          Grand Village           No         No  3.8/5    166  Basavanagudi   \n\n             rest_type                        cuisines cost2plates  \\\n0        Casual Dining  North Indian, Mughlai, Chinese         800   \n1        Casual Dining     Chinese, North Indian, Thai         800   \n2  Cafe, Casual Dining          Cafe, Mexican, Italian         800   \n3          Quick Bites      South Indian, North Indian         300   \n4        Casual Dining        North Indian, Rajasthani         600   \n\n  serving_style  \n0        Buffet  \n1        Buffet  \n2        Buffet  \n3        Buffet  \n4        Buffet  ",
      "text/html": "<div>\n<style scoped>\n    .dataframe tbody tr th:only-of-type {\n        vertical-align: middle;\n    }\n\n    .dataframe tbody tr th {\n        vertical-align: top;\n    }\n\n    .dataframe thead th {\n        text-align: right;\n    }\n</style>\n<table border=\"1\" class=\"dataframe\">\n  <thead>\n    <tr style=\"text-align: right;\">\n      <th></th>\n      <th>name</th>\n      <th>online_order</th>\n      <th>book_table</th>\n      <th>rate</th>\n      <th>votes</th>\n      <th>city</th>\n      <th>rest_type</th>\n      <th>cuisines</th>\n      <th>cost2plates</th>\n      <th>serving_style</th>\n    </tr>\n  </thead>\n  <tbody>\n    <tr>\n      <th>0</th>\n      <td>Jalsa</td>\n      <td>Yes</td>\n      <td>Yes</td>\n      <td>4.1/5</td>\n      <td>775</td>\n      <td>Banashankari</td>\n      <td>Casual Dining</td>\n      <td>North Indian, Mughlai, Chinese</td>\n      <td>800</td>\n      <td>Buffet</td>\n    </tr>\n    <tr>\n      <th>1</th>\n      <td>Spice Elephant</td>\n      <td>Yes</td>\n      <td>No</td>\n      <td>4.1/5</td>\n      <td>787</td>\n      <td>Banashankari</td>\n      <td>Casual Dining</td>\n      <td>Chinese, North Indian, Thai</td>\n      <td>800</td>\n      <td>Buffet</td>\n    </tr>\n    <tr>\n      <th>2</th>\n      <td>San Churro Cafe</td>\n      <td>Yes</td>\n      <td>No</td>\n      <td>3.8/5</td>\n      <td>918</td>\n      <td>Banashankari</td>\n      <td>Cafe, Casual Dining</td>\n      <td>Cafe, Mexican, Italian</td>\n      <td>800</td>\n      <td>Buffet</td>\n    </tr>\n    <tr>\n      <th>3</th>\n      <td>Addhuri Udupi Bhojana</td>\n      <td>No</td>\n      <td>No</td>\n      <td>3.7/5</td>\n      <td>88</td>\n      <td>Banashankari</td>\n      <td>Quick Bites</td>\n      <td>South Indian, North Indian</td>\n      <td>300</td>\n      <td>Buffet</td>\n    </tr>\n    <tr>\n      <th>4</th>\n      <td>Grand Village</td>\n      <td>No</td>\n      <td>No</td>\n      <td>3.8/5</td>\n      <td>166</td>\n      <td>Basavanagudi</td>\n      <td>Casual Dining</td>\n      <td>North Indian, Rajasthani</td>\n      <td>600</td>\n      <td>Buffet</td>\n    </tr>\n  </tbody>\n</table>\n</div>"
     },
     "execution_count": 136,
     "metadata": {},
     "output_type": "execute_result"
    }
   ],
   "source": [
    "df.head()"
   ],
   "metadata": {
    "collapsed": false,
    "ExecuteTime": {
     "end_time": "2024-02-02T13:32:04.521773597Z",
     "start_time": "2024-02-02T13:32:04.470792425Z"
    }
   },
   "id": "61ca79ae963f1d58",
   "execution_count": 136
  },
  {
   "cell_type": "markdown",
   "source": [
    "### Get summary info on the DataFrame: \n",
    "- After dropping columns, see remaining columns\n",
    "- View non-null values in each column + data type"
   ],
   "metadata": {
    "collapsed": false
   },
   "id": "60e9d51b79ed3d7f"
  },
  {
   "cell_type": "code",
   "outputs": [
    {
     "name": "stdout",
     "output_type": "stream",
     "text": [
      "<class 'pandas.core.frame.DataFrame'>\n",
      "Index: 51609 entries, 0 to 51716\n",
      "Data columns (total 10 columns):\n",
      " #   Column         Non-Null Count  Dtype \n",
      "---  ------         --------------  ----- \n",
      " 0   name           51609 non-null  object\n",
      " 1   online_order   51609 non-null  object\n",
      " 2   book_table     51609 non-null  object\n",
      " 3   rate           43854 non-null  object\n",
      " 4   votes          51609 non-null  int64 \n",
      " 5   city           51588 non-null  object\n",
      " 6   rest_type      51382 non-null  object\n",
      " 7   cuisines       51564 non-null  object\n",
      " 8   cost2plates    51265 non-null  object\n",
      " 9   serving_style  51609 non-null  object\n",
      "dtypes: int64(1), object(9)\n",
      "memory usage: 4.3+ MB\n"
     ]
    }
   ],
   "source": [
    "df.info()"
   ],
   "metadata": {
    "collapsed": false,
    "ExecuteTime": {
     "end_time": "2024-02-02T13:32:04.671453576Z",
     "start_time": "2024-02-02T13:32:04.518795189Z"
    }
   },
   "id": "cda11e6280dd9186",
   "execution_count": 137
  },
  {
   "cell_type": "markdown",
   "source": [
    "## DATA CLEANING SECTION\n",
    "#### NOW START CLEANING THE COLUMNS\n",
    "## DATA CLEANING SECTION"
   ],
   "metadata": {
    "collapsed": false
   },
   "id": "9f4e1049b23a4745"
  },
  {
   "cell_type": "markdown",
   "source": [
    "## METHODS OF FINDING NULL VALUES IN COLUMNS:"
   ],
   "metadata": {
    "collapsed": false
   },
   "id": "ea316fd712abb970"
  },
  {
   "cell_type": "markdown",
   "source": [
    "### Method 1: Using inbuilt info() method and deducing:\n",
    "__Running df.info() columns' non-null value counts. The column with highest null value count is one:__\n",
    " - Whose non-null value count is far off the mark from the total entries in the range index\n",
    "  - Running the command below shows that 'rate' column has most null values since...\n",
    "     - ...its non-null value count is 43942 while total entries is 51717  "
   ],
   "metadata": {
    "collapsed": false
   },
   "id": "f14d1d9ea65c23d1"
  },
  {
   "cell_type": "code",
   "outputs": [
    {
     "name": "stdout",
     "output_type": "stream",
     "text": [
      "<class 'pandas.core.frame.DataFrame'>\n",
      "Index: 51609 entries, 0 to 51716\n",
      "Data columns (total 10 columns):\n",
      " #   Column         Non-Null Count  Dtype \n",
      "---  ------         --------------  ----- \n",
      " 0   name           51609 non-null  object\n",
      " 1   online_order   51609 non-null  object\n",
      " 2   book_table     51609 non-null  object\n",
      " 3   rate           43854 non-null  object\n",
      " 4   votes          51609 non-null  int64 \n",
      " 5   city           51588 non-null  object\n",
      " 6   rest_type      51382 non-null  object\n",
      " 7   cuisines       51564 non-null  object\n",
      " 8   cost2plates    51265 non-null  object\n",
      " 9   serving_style  51609 non-null  object\n",
      "dtypes: int64(1), object(9)\n",
      "memory usage: 4.3+ MB\n"
     ]
    }
   ],
   "source": [
    "df.info()"
   ],
   "metadata": {
    "collapsed": false,
    "ExecuteTime": {
     "end_time": "2024-02-02T13:32:04.767839834Z",
     "start_time": "2024-02-02T13:32:04.607299681Z"
    }
   },
   "id": "c6f3906fa4f38f6f",
   "execution_count": 138
  },
  {
   "cell_type": "markdown",
   "source": [
    "### Method 2: Using single line isnull().sum().idxmax() to return most nulls column:"
   ],
   "metadata": {
    "collapsed": false
   },
   "id": "2837dd919e4bc21e"
  },
  {
   "cell_type": "code",
   "outputs": [
    {
     "name": "stdout",
     "output_type": "stream",
     "text": [
      "Column with most null values: rate\n"
     ]
    }
   ],
   "source": [
    "most_nulls_column = df.isnull().sum().idxmax()\n",
    "print(f\"Column with most null values: {most_nulls_column}\")"
   ],
   "metadata": {
    "collapsed": false,
    "ExecuteTime": {
     "end_time": "2024-02-02T13:32:04.807734215Z",
     "start_time": "2024-02-02T13:32:04.754969685Z"
    }
   },
   "id": "4dd273e30e3f20a4",
   "execution_count": 139
  },
  {
   "cell_type": "markdown",
   "source": [
    "## Method 3: Custom function to get both column with most nulls and the count of null values:"
   ],
   "metadata": {
    "collapsed": false
   },
   "id": "87dfba778b6d7f0f"
  },
  {
   "cell_type": "code",
   "outputs": [
    {
     "name": "stdout",
     "output_type": "stream",
     "text": [
      "Column with most null values is 'rate' and has 7755 null values\n"
     ]
    }
   ],
   "source": [
    "max_null = 0\n",
    "column_with_most_nulls = None\n",
    "for col in df.columns:\n",
    "    null_val_count = df[col].isnull().sum()\n",
    "    if null_val_count > max_null:\n",
    "        max_null = null_val_count\n",
    "        column_with_most_nulls = col\n",
    "\n",
    "print(f\"Column with most null values is '{column_with_most_nulls}' and has {max_null} null values\")"
   ],
   "metadata": {
    "collapsed": false,
    "ExecuteTime": {
     "end_time": "2024-02-02T13:32:04.852959659Z",
     "start_time": "2024-02-02T13:32:04.802834393Z"
    }
   },
   "id": "fbc8a20f79090632",
   "execution_count": 140
  },
  {
   "cell_type": "markdown",
   "source": [
    "### Confirming null value count in a column"
   ],
   "metadata": {
    "collapsed": false
   },
   "id": "220fa03ba28d6ee6"
  },
  {
   "cell_type": "code",
   "outputs": [
    {
     "name": "stdout",
     "output_type": "stream",
     "text": [
      "The number of null values in rate column: 7755\n"
     ]
    }
   ],
   "source": [
    "print(f\"The number of null values in rate column: {df['rate'].isnull().sum()}\")"
   ],
   "metadata": {
    "collapsed": false,
    "ExecuteTime": {
     "end_time": "2024-02-02T13:32:04.906079292Z",
     "start_time": "2024-02-02T13:32:04.847064992Z"
    }
   },
   "id": "9ff392479f6e24cd",
   "execution_count": 141
  },
  {
   "cell_type": "code",
   "outputs": [
    {
     "data": {
      "text/plain": "                    name online_order book_table   rate  votes          city  \\\n0                  Jalsa          Yes        Yes  4.1/5    775  Banashankari   \n1         Spice Elephant          Yes         No  4.1/5    787  Banashankari   \n2        San Churro Cafe          Yes         No  3.8/5    918  Banashankari   \n3  Addhuri Udupi Bhojana           No         No  3.7/5     88  Banashankari   \n4          Grand Village           No         No  3.8/5    166  Basavanagudi   \n\n             rest_type                        cuisines cost2plates  \\\n0        Casual Dining  North Indian, Mughlai, Chinese         800   \n1        Casual Dining     Chinese, North Indian, Thai         800   \n2  Cafe, Casual Dining          Cafe, Mexican, Italian         800   \n3          Quick Bites      South Indian, North Indian         300   \n4        Casual Dining        North Indian, Rajasthani         600   \n\n  serving_style  \n0        Buffet  \n1        Buffet  \n2        Buffet  \n3        Buffet  \n4        Buffet  ",
      "text/html": "<div>\n<style scoped>\n    .dataframe tbody tr th:only-of-type {\n        vertical-align: middle;\n    }\n\n    .dataframe tbody tr th {\n        vertical-align: top;\n    }\n\n    .dataframe thead th {\n        text-align: right;\n    }\n</style>\n<table border=\"1\" class=\"dataframe\">\n  <thead>\n    <tr style=\"text-align: right;\">\n      <th></th>\n      <th>name</th>\n      <th>online_order</th>\n      <th>book_table</th>\n      <th>rate</th>\n      <th>votes</th>\n      <th>city</th>\n      <th>rest_type</th>\n      <th>cuisines</th>\n      <th>cost2plates</th>\n      <th>serving_style</th>\n    </tr>\n  </thead>\n  <tbody>\n    <tr>\n      <th>0</th>\n      <td>Jalsa</td>\n      <td>Yes</td>\n      <td>Yes</td>\n      <td>4.1/5</td>\n      <td>775</td>\n      <td>Banashankari</td>\n      <td>Casual Dining</td>\n      <td>North Indian, Mughlai, Chinese</td>\n      <td>800</td>\n      <td>Buffet</td>\n    </tr>\n    <tr>\n      <th>1</th>\n      <td>Spice Elephant</td>\n      <td>Yes</td>\n      <td>No</td>\n      <td>4.1/5</td>\n      <td>787</td>\n      <td>Banashankari</td>\n      <td>Casual Dining</td>\n      <td>Chinese, North Indian, Thai</td>\n      <td>800</td>\n      <td>Buffet</td>\n    </tr>\n    <tr>\n      <th>2</th>\n      <td>San Churro Cafe</td>\n      <td>Yes</td>\n      <td>No</td>\n      <td>3.8/5</td>\n      <td>918</td>\n      <td>Banashankari</td>\n      <td>Cafe, Casual Dining</td>\n      <td>Cafe, Mexican, Italian</td>\n      <td>800</td>\n      <td>Buffet</td>\n    </tr>\n    <tr>\n      <th>3</th>\n      <td>Addhuri Udupi Bhojana</td>\n      <td>No</td>\n      <td>No</td>\n      <td>3.7/5</td>\n      <td>88</td>\n      <td>Banashankari</td>\n      <td>Quick Bites</td>\n      <td>South Indian, North Indian</td>\n      <td>300</td>\n      <td>Buffet</td>\n    </tr>\n    <tr>\n      <th>4</th>\n      <td>Grand Village</td>\n      <td>No</td>\n      <td>No</td>\n      <td>3.8/5</td>\n      <td>166</td>\n      <td>Basavanagudi</td>\n      <td>Casual Dining</td>\n      <td>North Indian, Rajasthani</td>\n      <td>600</td>\n      <td>Buffet</td>\n    </tr>\n  </tbody>\n</table>\n</div>"
     },
     "execution_count": 142,
     "metadata": {},
     "output_type": "execute_result"
    }
   ],
   "source": [
    "df.head()"
   ],
   "metadata": {
    "collapsed": false,
    "ExecuteTime": {
     "end_time": "2024-02-02T13:32:05.147277957Z",
     "start_time": "2024-02-02T13:32:04.901382310Z"
    }
   },
   "id": "24c7e27119e3ccae",
   "execution_count": 142
  },
  {
   "cell_type": "markdown",
   "source": [
    "### Clean the 'rate' column"
   ],
   "metadata": {
    "collapsed": false
   },
   "id": "cc8d1d4410badbec"
  },
  {
   "cell_type": "markdown",
   "source": [
    "__Step 1: Check the data type__"
   ],
   "metadata": {
    "collapsed": false
   },
   "id": "14a81c892e251760"
  },
  {
   "cell_type": "code",
   "outputs": [
    {
     "data": {
      "text/plain": "str"
     },
     "execution_count": 143,
     "metadata": {},
     "output_type": "execute_result"
    }
   ],
   "source": [
    "type(df['rate'][0])"
   ],
   "metadata": {
    "collapsed": false,
    "ExecuteTime": {
     "end_time": "2024-02-02T13:32:05.177304434Z",
     "start_time": "2024-02-02T13:32:05.006733230Z"
    }
   },
   "id": "78393a35d906eef1",
   "execution_count": 143
  },
  {
   "cell_type": "markdown",
   "source": [
    "__Step 2: Check for unique values__\n",
    "- To find if any outliers exist"
   ],
   "metadata": {
    "collapsed": false
   },
   "id": "a5f394844ab3d173"
  },
  {
   "cell_type": "code",
   "outputs": [
    {
     "data": {
      "text/plain": "['4.1/5',\n '3.8/5',\n '3.7/5',\n '3.6/5',\n '4.6/5',\n '4.0/5',\n '4.2/5',\n '3.9/5',\n '3.1/5',\n '3.0/5',\n '3.2/5',\n '3.3/5',\n '2.8/5',\n '4.4/5',\n '4.3/5',\n 'NEW',\n '2.9/5',\n '3.5/5',\n nan,\n '2.6/5',\n '3.8 /5',\n '3.4/5',\n '4.5/5',\n '2.5/5',\n '2.7/5',\n '4.7/5',\n '2.4/5',\n '2.2/5',\n '2.3/5',\n '3.4 /5',\n '-',\n '3.6 /5',\n '4.8/5',\n '3.9 /5',\n '4.2 /5',\n '4.0 /5',\n '4.1 /5',\n '3.7 /5',\n '3.1 /5',\n '2.9 /5',\n '3.3 /5',\n '2.8 /5',\n '3.5 /5',\n '2.7 /5',\n '2.5 /5',\n '3.2 /5',\n '2.6 /5',\n '4.5 /5',\n '4.3 /5',\n '4.4 /5',\n '4.9/5',\n '2.1/5',\n '2.0/5',\n '1.8/5',\n '4.6 /5',\n '4.9 /5',\n '3.0 /5',\n '4.8 /5',\n '2.3 /5',\n '4.7 /5',\n '2.4 /5',\n '2.1 /5',\n '2.2 /5',\n '2.0 /5',\n '1.8 /5']"
     },
     "execution_count": 144,
     "metadata": {},
     "output_type": "execute_result"
    }
   ],
   "source": [
    "df['rate'].unique().tolist()"
   ],
   "metadata": {
    "collapsed": false,
    "ExecuteTime": {
     "end_time": "2024-02-02T13:32:05.180832149Z",
     "start_time": "2024-02-02T13:32:05.044533478Z"
    }
   },
   "id": "1ce73046561f9bf8",
   "execution_count": 144
  },
  {
   "cell_type": "markdown",
   "source": [
    "__Step 3: Replace \"NEW\" & \"-\" with NaN, then remove \"/5\" portion and return all values as floats__"
   ],
   "metadata": {
    "collapsed": false
   },
   "id": "eaeeb477c9cbbfb0"
  },
  {
   "cell_type": "code",
   "outputs": [
    {
     "data": {
      "text/plain": "0    4.1\n1    4.1\n2    3.8\n3    3.7\n4    3.8\nName: rate, dtype: float64"
     },
     "execution_count": 145,
     "metadata": {},
     "output_type": "execute_result"
    }
   ],
   "source": [
    "def handle_rate(value):\n",
    "    if value == '-' or value == 'NEW':\n",
    "        return np.nan\n",
    "    else:\n",
    "        value = float(str(value).split('/')[0])\n",
    "        return value\n",
    "\n",
    "# Overwrite the existing 'rate' column\n",
    "df['rate'] = df['rate'].apply(handle_rate)\n",
    "df['rate'].head()"
   ],
   "metadata": {
    "collapsed": false,
    "ExecuteTime": {
     "end_time": "2024-02-02T13:32:05.274530648Z",
     "start_time": "2024-02-02T13:32:05.133801521Z"
    }
   },
   "id": "aec3b4ad7f4982aa",
   "execution_count": 145
  },
  {
   "cell_type": "markdown",
   "source": [
    "__Check null values in rate column:__"
   ],
   "metadata": {
    "collapsed": false
   },
   "id": "88c109b671f4d3dc"
  },
  {
   "cell_type": "code",
   "outputs": [
    {
     "name": "stdout",
     "output_type": "stream",
     "text": [
      "<class 'pandas.core.frame.DataFrame'>\n",
      "Index: 51609 entries, 0 to 51716\n",
      "Data columns (total 10 columns):\n",
      " #   Column         Non-Null Count  Dtype  \n",
      "---  ------         --------------  -----  \n",
      " 0   name           51609 non-null  object \n",
      " 1   online_order   51609 non-null  object \n",
      " 2   book_table     51609 non-null  object \n",
      " 3   rate           41590 non-null  float64\n",
      " 4   votes          51609 non-null  int64  \n",
      " 5   city           51588 non-null  object \n",
      " 6   rest_type      51382 non-null  object \n",
      " 7   cuisines       51564 non-null  object \n",
      " 8   cost2plates    51265 non-null  object \n",
      " 9   serving_style  51609 non-null  object \n",
      "dtypes: float64(1), int64(1), object(8)\n",
      "memory usage: 6.3+ MB\n"
     ]
    }
   ],
   "source": [
    "df.info()"
   ],
   "metadata": {
    "collapsed": false,
    "ExecuteTime": {
     "end_time": "2024-02-02T13:32:05.316226984Z",
     "start_time": "2024-02-02T13:32:05.266750248Z"
    }
   },
   "id": "52b70e90bf4d9560",
   "execution_count": 146
  },
  {
   "cell_type": "markdown",
   "source": [
    "__Step 4: Fill null values, 'nan' with mean of 'rate' column__"
   ],
   "metadata": {
    "collapsed": false
   },
   "id": "75b61664972bc42a"
  },
  {
   "cell_type": "code",
   "outputs": [
    {
     "data": {
      "text/plain": "[4.1,\n 3.8,\n 3.7,\n 3.6,\n 4.6,\n 4.0,\n 4.2,\n 3.9,\n 3.1,\n 3.0,\n 3.2,\n 3.3,\n 2.8,\n 4.4,\n 4.3,\n 3.7001,\n 2.9,\n 3.5,\n 2.6,\n 3.4,\n 4.5,\n 2.5,\n 2.7,\n 4.7,\n 2.4,\n 2.2,\n 2.3,\n 4.8,\n 4.9,\n 2.1,\n 2.0,\n 1.8]"
     },
     "execution_count": 147,
     "metadata": {},
     "output_type": "execute_result"
    }
   ],
   "source": [
    "# Pandas 3.0 doesn't allow this in future: df['rate'].fillna(df['rate'].mean(), inplace=True) \n",
    "# Nor this: df['rate'] = df['rate'].fillna(df['rate'].mean())\n",
    "# So to opt into future behavior, I apply this method: result.infer_objects(copy=False)\n",
    "# df['rate'] = df['rate'].fillna(df['rate'].mean()).infer_objects(copy=False)\n",
    "# type(df['rate'])\n",
    "\n",
    "df['rate'] = df['rate'].fillna(df['rate'].mean().round(4)) \n",
    "df['rate'].unique().tolist()"
   ],
   "metadata": {
    "collapsed": false,
    "ExecuteTime": {
     "end_time": "2024-02-02T13:32:05.372101902Z",
     "start_time": "2024-02-02T13:32:05.277157087Z"
    }
   },
   "id": "117c92fac89837df",
   "execution_count": 147
  },
  {
   "cell_type": "markdown",
   "source": [
    "__Step 5: Confirm all null values 'nan' have been filled with the mean__"
   ],
   "metadata": {
    "collapsed": false
   },
   "id": "74a598ee1eb72c8d"
  },
  {
   "cell_type": "code",
   "outputs": [
    {
     "data": {
      "text/plain": "0"
     },
     "execution_count": 148,
     "metadata": {},
     "output_type": "execute_result"
    }
   ],
   "source": [
    "# If the sum = 0, then all null values have been eliminated\n",
    "df['rate'].isnull().sum()"
   ],
   "metadata": {
    "collapsed": false,
    "ExecuteTime": {
     "end_time": "2024-02-02T13:32:05.459892691Z",
     "start_time": "2024-02-02T13:32:05.328429630Z"
    }
   },
   "id": "35c91687e603cdeb",
   "execution_count": 148
  },
  {
   "cell_type": "markdown",
   "source": [
    "### Now check DataFrame info\n",
    "__- The null values have now been filled as shown in summary below__"
   ],
   "metadata": {
    "collapsed": false
   },
   "id": "506b96dcc2acefa3"
  },
  {
   "cell_type": "code",
   "outputs": [
    {
     "name": "stdout",
     "output_type": "stream",
     "text": [
      "<class 'pandas.core.frame.DataFrame'>\n",
      "Index: 51609 entries, 0 to 51716\n",
      "Data columns (total 10 columns):\n",
      " #   Column         Non-Null Count  Dtype  \n",
      "---  ------         --------------  -----  \n",
      " 0   name           51609 non-null  object \n",
      " 1   online_order   51609 non-null  object \n",
      " 2   book_table     51609 non-null  object \n",
      " 3   rate           51609 non-null  float64\n",
      " 4   votes          51609 non-null  int64  \n",
      " 5   city           51588 non-null  object \n",
      " 6   rest_type      51382 non-null  object \n",
      " 7   cuisines       51564 non-null  object \n",
      " 8   cost2plates    51265 non-null  object \n",
      " 9   serving_style  51609 non-null  object \n",
      "dtypes: float64(1), int64(1), object(8)\n",
      "memory usage: 6.3+ MB\n"
     ]
    }
   ],
   "source": [
    "df.info()"
   ],
   "metadata": {
    "collapsed": false,
    "ExecuteTime": {
     "end_time": "2024-02-02T13:32:05.507998520Z",
     "start_time": "2024-02-02T13:32:05.418744113Z"
    }
   },
   "id": "42a9647860b3d22f",
   "execution_count": 149
  },
  {
   "cell_type": "markdown",
   "source": [
    "## 'cost2plates' column cleaning: 2nd most null values"
   ],
   "metadata": {
    "collapsed": false
   },
   "id": "f7361de78220039e"
  },
  {
   "cell_type": "markdown",
   "source": [
    "### From df.info() results above, 'cost2plates' has most null values\n",
    "__-Non-null values = 51265 while total rows = 51609__\n",
    "__-Let's confirm actual null value count:__"
   ],
   "metadata": {
    "collapsed": false
   },
   "id": "2ec783f862fef9b3"
  },
  {
   "cell_type": "code",
   "outputs": [
    {
     "data": {
      "text/plain": "0"
     },
     "execution_count": 159,
     "metadata": {},
     "output_type": "execute_result"
    }
   ],
   "source": [
    "df['cost2plates'].isnull().sum()"
   ],
   "metadata": {
    "collapsed": false,
    "ExecuteTime": {
     "end_time": "2024-02-02T13:32:18.226607526Z",
     "start_time": "2024-02-02T13:32:18.204460533Z"
    }
   },
   "id": "c6c3d4d57ca849c4",
   "execution_count": 159
  },
  {
   "cell_type": "markdown",
   "source": [
    "__Checking other unique data values in 'cost2plates' to prepare how to handle them:__"
   ],
   "metadata": {
    "collapsed": false
   },
   "id": "6b1403f21311de6e"
  },
  {
   "cell_type": "code",
   "outputs": [
    {
     "data": {
      "text/plain": "['800',\n '300',\n '600',\n '700',\n '550',\n '500',\n '450',\n '650',\n '400',\n '900',\n '200',\n '750',\n '150',\n '850',\n '100',\n '1,200',\n '350',\n '250',\n '950',\n '1,000',\n '1,500',\n '1,300',\n '199',\n '80',\n '1,100',\n '160',\n '1,600',\n '230',\n '130',\n '50',\n '190',\n '1,700',\n nan,\n '1,400',\n '180',\n '1,350',\n '2,200',\n '2,000',\n '1,800',\n '1,900',\n '330',\n '2,500',\n '2,100',\n '3,000',\n '2,800',\n '3,400',\n '40',\n '1,250',\n '3,500',\n '4,000',\n '2,400',\n '2,600',\n '120',\n '1,450',\n '469',\n '70',\n '3,200',\n '60',\n '560',\n '240',\n '360',\n '6,000',\n '1,050',\n '2,300',\n '4,100',\n '5,000',\n '3,700',\n '1,650',\n '2,700',\n '4,500',\n '140']"
     },
     "execution_count": 151,
     "metadata": {},
     "output_type": "execute_result"
    }
   ],
   "source": [
    "df['cost2plates'].unique().tolist()"
   ],
   "metadata": {
    "collapsed": false,
    "ExecuteTime": {
     "end_time": "2024-02-02T13:32:05.617965087Z",
     "start_time": "2024-02-02T13:32:05.552842558Z"
    }
   },
   "id": "ef6ddfd4d8b843a6",
   "execution_count": 151
  },
  {
   "cell_type": "markdown",
   "source": [
    "__Removing commas from the numbers then returning floats__"
   ],
   "metadata": {
    "collapsed": false
   },
   "id": "7823cc432f2bf029"
  },
  {
   "cell_type": "code",
   "outputs": [],
   "source": [
    "def handle_cost2plates(value):\n",
    "    if pd.notna(value):\n",
    "        return float(value.replace(',','')) if ',' in str(value) else float(value)\n",
    "    else:\n",
    "        return value  # Return null values as is\n",
    "\n",
    "df['cost2plates'] = df['cost2plates'].apply(handle_cost2plates)"
   ],
   "metadata": {
    "collapsed": false,
    "is_executing": true
   },
   "id": "3071493e23c652af",
   "execution_count": null
  },
  {
   "cell_type": "code",
   "outputs": [
    {
     "data": {
      "text/plain": "[nan,\n 1200.0,\n 1000.0,\n 1500.0,\n 1300.0,\n 1100.0,\n 1600.0,\n 1700.0,\n 1400.0,\n 1350.0,\n 2200.0,\n 2000.0,\n 1800.0,\n 1900.0,\n 2500.0,\n 2100.0,\n 3000.0,\n 2800.0,\n 3400.0,\n 1250.0,\n 3500.0,\n 4000.0,\n 2400.0,\n 2600.0,\n 1450.0,\n 3200.0,\n 6000.0,\n 1050.0,\n 2300.0,\n 4100.0,\n 5000.0,\n 3700.0,\n 1650.0,\n 2700.0,\n 4500.0]"
     },
     "execution_count": 153,
     "metadata": {},
     "output_type": "execute_result"
    }
   ],
   "source": [
    "df['cost2plates'].unique().tolist()"
   ],
   "metadata": {
    "collapsed": false,
    "ExecuteTime": {
     "end_time": "2024-02-02T13:32:05.783281269Z",
     "start_time": "2024-02-02T13:32:05.693490767Z"
    }
   },
   "id": "68cde82b7cdd41a2",
   "execution_count": 153
  },
  {
   "cell_type": "markdown",
   "source": [
    "__Fill null values with column mean:__"
   ],
   "metadata": {
    "collapsed": false
   },
   "id": "bb5de8e316794287"
  },
  {
   "cell_type": "code",
   "outputs": [],
   "source": [
    "df['cost2plates'] = df['cost2plates'].fillna(df['cost2plates'].mean().round(4))"
   ],
   "metadata": {
    "collapsed": false,
    "ExecuteTime": {
     "end_time": "2024-02-02T13:32:05.859477446Z",
     "start_time": "2024-02-02T13:32:05.782938080Z"
    }
   },
   "id": "789ace792802614f",
   "execution_count": 154
  },
  {
   "cell_type": "markdown",
   "source": [
    "__Now check null values have reduced to 0 after filling them with mean__"
   ],
   "metadata": {
    "collapsed": false
   },
   "id": "f83aa8c7af1af68d"
  },
  {
   "cell_type": "code",
   "outputs": [
    {
     "data": {
      "text/plain": "44720"
     },
     "execution_count": 155,
     "metadata": {},
     "output_type": "execute_result"
    }
   ],
   "source": [
    "df['cost2plates'].isnull().sum()"
   ],
   "metadata": {
    "collapsed": false,
    "ExecuteTime": {
     "end_time": "2024-02-02T13:32:05.919545925Z",
     "start_time": "2024-02-02T13:32:05.831634319Z"
    }
   },
   "id": "71eb57d76fb8e53b",
   "execution_count": 155
  },
  {
   "cell_type": "markdown",
   "source": [
    "## Drop all rows with null values\n",
    "#### dropna command should be run after replacing null values in numeric columns\n"
   ],
   "metadata": {
    "collapsed": false
   },
   "id": "43c86953d7987f57"
  },
  {
   "cell_type": "code",
   "outputs": [],
   "source": [
    "df.dropna(inplace=True)"
   ],
   "metadata": {
    "collapsed": false,
    "ExecuteTime": {
     "end_time": "2024-02-02T13:32:06.124637646Z",
     "start_time": "2024-02-02T13:32:05.919017869Z"
    }
   },
   "id": "22c36fdf7419997f",
   "execution_count": 156
  },
  {
   "cell_type": "markdown",
   "source": [
    "#### Check DataFrame info:\n",
    "- After running the drop command above, about 600 rows are dropped comparing the info() below and before the dropna command\n",
    "- Hypothesis, fill the null values in the cost for 2 plates column with average 1st then run the run dropna once more to see if dropped row count has reduced."
   ],
   "metadata": {
    "collapsed": false
   },
   "id": "632f07818be03e77"
  },
  {
   "cell_type": "code",
   "outputs": [
    {
     "name": "stdout",
     "output_type": "stream",
     "text": [
      "<class 'pandas.core.frame.DataFrame'>\n",
      "Index: 6885 entries, 67 to 51716\n",
      "Data columns (total 10 columns):\n",
      " #   Column         Non-Null Count  Dtype  \n",
      "---  ------         --------------  -----  \n",
      " 0   name           6885 non-null   object \n",
      " 1   online_order   6885 non-null   object \n",
      " 2   book_table     6885 non-null   object \n",
      " 3   rate           6885 non-null   float64\n",
      " 4   votes          6885 non-null   int64  \n",
      " 5   city           6885 non-null   object \n",
      " 6   rest_type      6885 non-null   object \n",
      " 7   cuisines       6885 non-null   object \n",
      " 8   cost2plates    6885 non-null   float64\n",
      " 9   serving_style  6885 non-null   object \n",
      "dtypes: float64(2), int64(1), object(7)\n",
      "memory usage: 591.7+ KB\n"
     ]
    }
   ],
   "source": [
    "df.info()"
   ],
   "metadata": {
    "collapsed": false,
    "ExecuteTime": {
     "end_time": "2024-02-02T13:32:06.233857607Z",
     "start_time": "2024-02-02T13:32:06.125873055Z"
    }
   },
   "id": "3aeebd51410e97d",
   "execution_count": 157
  },
  {
   "cell_type": "code",
   "outputs": [
    {
     "data": {
      "text/plain": "                                           name online_order book_table  rate  \\\n67                           Gustoes Beer House           No         No   4.1   \n119                               K27 - The Pub           No         No   3.1   \n166                                   Patio 805          Yes        Yes   4.1   \n207                               Chutney Chang          Yes        Yes   4.1   \n217                                     Toscano          Yes        Yes   4.3   \n221                                       Bella          Yes        Yes   3.9   \n278                 Gufha - The President Hotel          Yes        Yes   4.1   \n303                         Sea Spice by 7 Star          Yes        Yes   4.0   \n375                                       Salut          Yes        Yes   4.1   \n397  Eurasia Pasta and Barbeque by Little Italy          Yes        Yes   4.1   \n\n     votes          city           rest_type  \\\n67     868  Banashankari                 Pub   \n119     30  Banashankari                 Bar   \n166    364     Jayanagar       Casual Dining   \n207   2339     Jayanagar       Casual Dining   \n217   1129     Jayanagar       Casual Dining   \n221    142     Jayanagar       Casual Dining   \n278   1875     Jayanagar       Casual Dining   \n303    349  Banashankari       Casual Dining   \n375    442     Jayanagar  Pub, Casual Dining   \n397   1063     Jayanagar  Casual Dining, Bar   \n\n                                              cuisines  cost2plates  \\\n67   Continental, Italian, Mexican, North Indian, C...       1200.0   \n119                              Chinese, North Indian       1000.0   \n166                   Thai, Vietnamese, Asian, Chinese       1200.0   \n207                         North Indian, Chinese, BBQ       1500.0   \n217                                     Italian, Salad       1300.0   \n221                 Mangalorean, Seafood, South Indian       1000.0   \n278                     North Indian, Afghani, Mughlai       1200.0   \n303  Seafood, Biryani, Beverages, South Indian, Nor...       1200.0   \n375           Continental, Finger Food, Seafood, Pizza       1200.0   \n397                     Italian, Fast Food, Salad, BBQ       1200.0   \n\n    serving_style  \n67       Delivery  \n119      Delivery  \n166      Delivery  \n207      Delivery  \n217      Delivery  \n221      Delivery  \n278      Delivery  \n303      Delivery  \n375      Delivery  \n397      Delivery  ",
      "text/html": "<div>\n<style scoped>\n    .dataframe tbody tr th:only-of-type {\n        vertical-align: middle;\n    }\n\n    .dataframe tbody tr th {\n        vertical-align: top;\n    }\n\n    .dataframe thead th {\n        text-align: right;\n    }\n</style>\n<table border=\"1\" class=\"dataframe\">\n  <thead>\n    <tr style=\"text-align: right;\">\n      <th></th>\n      <th>name</th>\n      <th>online_order</th>\n      <th>book_table</th>\n      <th>rate</th>\n      <th>votes</th>\n      <th>city</th>\n      <th>rest_type</th>\n      <th>cuisines</th>\n      <th>cost2plates</th>\n      <th>serving_style</th>\n    </tr>\n  </thead>\n  <tbody>\n    <tr>\n      <th>67</th>\n      <td>Gustoes Beer House</td>\n      <td>No</td>\n      <td>No</td>\n      <td>4.1</td>\n      <td>868</td>\n      <td>Banashankari</td>\n      <td>Pub</td>\n      <td>Continental, Italian, Mexican, North Indian, C...</td>\n      <td>1200.0</td>\n      <td>Delivery</td>\n    </tr>\n    <tr>\n      <th>119</th>\n      <td>K27 - The Pub</td>\n      <td>No</td>\n      <td>No</td>\n      <td>3.1</td>\n      <td>30</td>\n      <td>Banashankari</td>\n      <td>Bar</td>\n      <td>Chinese, North Indian</td>\n      <td>1000.0</td>\n      <td>Delivery</td>\n    </tr>\n    <tr>\n      <th>166</th>\n      <td>Patio 805</td>\n      <td>Yes</td>\n      <td>Yes</td>\n      <td>4.1</td>\n      <td>364</td>\n      <td>Jayanagar</td>\n      <td>Casual Dining</td>\n      <td>Thai, Vietnamese, Asian, Chinese</td>\n      <td>1200.0</td>\n      <td>Delivery</td>\n    </tr>\n    <tr>\n      <th>207</th>\n      <td>Chutney Chang</td>\n      <td>Yes</td>\n      <td>Yes</td>\n      <td>4.1</td>\n      <td>2339</td>\n      <td>Jayanagar</td>\n      <td>Casual Dining</td>\n      <td>North Indian, Chinese, BBQ</td>\n      <td>1500.0</td>\n      <td>Delivery</td>\n    </tr>\n    <tr>\n      <th>217</th>\n      <td>Toscano</td>\n      <td>Yes</td>\n      <td>Yes</td>\n      <td>4.3</td>\n      <td>1129</td>\n      <td>Jayanagar</td>\n      <td>Casual Dining</td>\n      <td>Italian, Salad</td>\n      <td>1300.0</td>\n      <td>Delivery</td>\n    </tr>\n    <tr>\n      <th>221</th>\n      <td>Bella</td>\n      <td>Yes</td>\n      <td>Yes</td>\n      <td>3.9</td>\n      <td>142</td>\n      <td>Jayanagar</td>\n      <td>Casual Dining</td>\n      <td>Mangalorean, Seafood, South Indian</td>\n      <td>1000.0</td>\n      <td>Delivery</td>\n    </tr>\n    <tr>\n      <th>278</th>\n      <td>Gufha - The President Hotel</td>\n      <td>Yes</td>\n      <td>Yes</td>\n      <td>4.1</td>\n      <td>1875</td>\n      <td>Jayanagar</td>\n      <td>Casual Dining</td>\n      <td>North Indian, Afghani, Mughlai</td>\n      <td>1200.0</td>\n      <td>Delivery</td>\n    </tr>\n    <tr>\n      <th>303</th>\n      <td>Sea Spice by 7 Star</td>\n      <td>Yes</td>\n      <td>Yes</td>\n      <td>4.0</td>\n      <td>349</td>\n      <td>Banashankari</td>\n      <td>Casual Dining</td>\n      <td>Seafood, Biryani, Beverages, South Indian, Nor...</td>\n      <td>1200.0</td>\n      <td>Delivery</td>\n    </tr>\n    <tr>\n      <th>375</th>\n      <td>Salut</td>\n      <td>Yes</td>\n      <td>Yes</td>\n      <td>4.1</td>\n      <td>442</td>\n      <td>Jayanagar</td>\n      <td>Pub, Casual Dining</td>\n      <td>Continental, Finger Food, Seafood, Pizza</td>\n      <td>1200.0</td>\n      <td>Delivery</td>\n    </tr>\n    <tr>\n      <th>397</th>\n      <td>Eurasia Pasta and Barbeque by Little Italy</td>\n      <td>Yes</td>\n      <td>Yes</td>\n      <td>4.1</td>\n      <td>1063</td>\n      <td>Jayanagar</td>\n      <td>Casual Dining, Bar</td>\n      <td>Italian, Fast Food, Salad, BBQ</td>\n      <td>1200.0</td>\n      <td>Delivery</td>\n    </tr>\n  </tbody>\n</table>\n</div>"
     },
     "execution_count": 158,
     "metadata": {},
     "output_type": "execute_result"
    }
   ],
   "source": [
    "df.head(10)"
   ],
   "metadata": {
    "collapsed": false,
    "ExecuteTime": {
     "end_time": "2024-02-02T13:32:06.273906526Z",
     "start_time": "2024-02-02T13:32:06.215151716Z"
    }
   },
   "id": "e466100e003900d9",
   "execution_count": 158
  }
 ],
 "metadata": {
  "kernelspec": {
   "display_name": "Python 3",
   "language": "python",
   "name": "python3"
  },
  "language_info": {
   "codemirror_mode": {
    "name": "ipython",
    "version": 2
   },
   "file_extension": ".py",
   "mimetype": "text/x-python",
   "name": "python",
   "nbconvert_exporter": "python",
   "pygments_lexer": "ipython2",
   "version": "2.7.6"
  }
 },
 "nbformat": 4,
 "nbformat_minor": 5
}
