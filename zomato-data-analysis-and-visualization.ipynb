{
 "cells": [
  {
   "cell_type": "markdown",
   "source": [
    "## __Data Cleaning the Restaurant Data__"
   ],
   "metadata": {
    "collapsed": false
   },
   "id": "d026e959b93c1bcd"
  },
  {
   "cell_type": "code",
   "outputs": [],
   "source": [
    "# import key libraries\n",
    "\n",
    "import pandas as pd\n",
    "import numpy as np\n",
    "import matplotlib.pyplot as plt\n",
    "import seaborn as sns"
   ],
   "metadata": {
    "collapsed": false,
    "ExecuteTime": {
     "end_time": "2024-01-31T18:48:17.989876681Z",
     "start_time": "2024-01-31T18:48:17.759696611Z"
    }
   },
   "id": "26c15eafa7051ab1",
   "execution_count": 257
  },
  {
   "cell_type": "markdown",
   "source": [
    "### __Loading data from zomato.csv__"
   ],
   "metadata": {
    "collapsed": false
   },
   "id": "ca799d85cef27312"
  },
  {
   "cell_type": "code",
   "outputs": [
    {
     "data": {
      "text/plain": "                                                 url  \\\n0  https://www.zomato.com/bangalore/jalsa-banasha...   \n1  https://www.zomato.com/bangalore/spice-elephan...   \n2  https://www.zomato.com/SanchurroBangalore?cont...   \n3  https://www.zomato.com/bangalore/addhuri-udupi...   \n4  https://www.zomato.com/bangalore/grand-village...   \n\n                                             address                   name  \\\n0  942, 21st Main Road, 2nd Stage, Banashankari, ...                  Jalsa   \n1  2nd Floor, 80 Feet Road, Near Big Bazaar, 6th ...         Spice Elephant   \n2  1112, Next to KIMS Medical College, 17th Cross...        San Churro Cafe   \n3  1st Floor, Annakuteera, 3rd Stage, Banashankar...  Addhuri Udupi Bhojana   \n4  10, 3rd Floor, Lakshmi Associates, Gandhi Baza...          Grand Village   \n\n  online_order book_table   rate  votes                             phone  \\\n0          Yes        Yes  4.1/5    775    080 42297555\\r\\n+91 9743772233   \n1          Yes         No  4.1/5    787                      080 41714161   \n2          Yes         No  3.8/5    918                    +91 9663487993   \n3           No         No  3.7/5     88                    +91 9620009302   \n4           No         No  3.8/5    166  +91 8026612447\\r\\n+91 9901210005   \n\n       location            rest_type  \\\n0  Banashankari        Casual Dining   \n1  Banashankari        Casual Dining   \n2  Banashankari  Cafe, Casual Dining   \n3  Banashankari          Quick Bites   \n4  Basavanagudi        Casual Dining   \n\n                                          dish_liked  \\\n0  Pasta, Lunch Buffet, Masala Papad, Paneer Laja...   \n1  Momos, Lunch Buffet, Chocolate Nirvana, Thai G...   \n2  Churros, Cannelloni, Minestrone Soup, Hot Choc...   \n3                                        Masala Dosa   \n4                                Panipuri, Gol Gappe   \n\n                         cuisines approx_cost(for two people)  \\\n0  North Indian, Mughlai, Chinese                         800   \n1     Chinese, North Indian, Thai                         800   \n2          Cafe, Mexican, Italian                         800   \n3      South Indian, North Indian                         300   \n4        North Indian, Rajasthani                         600   \n\n                                        reviews_list menu_item  \\\n0  [('Rated 4.0', 'RATED\\n  A beautiful place to ...        []   \n1  [('Rated 4.0', 'RATED\\n  Had been here for din...        []   \n2  [('Rated 3.0', \"RATED\\n  Ambience is not that ...        []   \n3  [('Rated 4.0', \"RATED\\n  Great food and proper...        []   \n4  [('Rated 4.0', 'RATED\\n  Very good restaurant ...        []   \n\n  listed_in(type) listed_in(city)  \n0          Buffet    Banashankari  \n1          Buffet    Banashankari  \n2          Buffet    Banashankari  \n3          Buffet    Banashankari  \n4          Buffet    Banashankari  ",
      "text/html": "<div>\n<style scoped>\n    .dataframe tbody tr th:only-of-type {\n        vertical-align: middle;\n    }\n\n    .dataframe tbody tr th {\n        vertical-align: top;\n    }\n\n    .dataframe thead th {\n        text-align: right;\n    }\n</style>\n<table border=\"1\" class=\"dataframe\">\n  <thead>\n    <tr style=\"text-align: right;\">\n      <th></th>\n      <th>url</th>\n      <th>address</th>\n      <th>name</th>\n      <th>online_order</th>\n      <th>book_table</th>\n      <th>rate</th>\n      <th>votes</th>\n      <th>phone</th>\n      <th>location</th>\n      <th>rest_type</th>\n      <th>dish_liked</th>\n      <th>cuisines</th>\n      <th>approx_cost(for two people)</th>\n      <th>reviews_list</th>\n      <th>menu_item</th>\n      <th>listed_in(type)</th>\n      <th>listed_in(city)</th>\n    </tr>\n  </thead>\n  <tbody>\n    <tr>\n      <th>0</th>\n      <td>https://www.zomato.com/bangalore/jalsa-banasha...</td>\n      <td>942, 21st Main Road, 2nd Stage, Banashankari, ...</td>\n      <td>Jalsa</td>\n      <td>Yes</td>\n      <td>Yes</td>\n      <td>4.1/5</td>\n      <td>775</td>\n      <td>080 42297555\\r\\n+91 9743772233</td>\n      <td>Banashankari</td>\n      <td>Casual Dining</td>\n      <td>Pasta, Lunch Buffet, Masala Papad, Paneer Laja...</td>\n      <td>North Indian, Mughlai, Chinese</td>\n      <td>800</td>\n      <td>[('Rated 4.0', 'RATED\\n  A beautiful place to ...</td>\n      <td>[]</td>\n      <td>Buffet</td>\n      <td>Banashankari</td>\n    </tr>\n    <tr>\n      <th>1</th>\n      <td>https://www.zomato.com/bangalore/spice-elephan...</td>\n      <td>2nd Floor, 80 Feet Road, Near Big Bazaar, 6th ...</td>\n      <td>Spice Elephant</td>\n      <td>Yes</td>\n      <td>No</td>\n      <td>4.1/5</td>\n      <td>787</td>\n      <td>080 41714161</td>\n      <td>Banashankari</td>\n      <td>Casual Dining</td>\n      <td>Momos, Lunch Buffet, Chocolate Nirvana, Thai G...</td>\n      <td>Chinese, North Indian, Thai</td>\n      <td>800</td>\n      <td>[('Rated 4.0', 'RATED\\n  Had been here for din...</td>\n      <td>[]</td>\n      <td>Buffet</td>\n      <td>Banashankari</td>\n    </tr>\n    <tr>\n      <th>2</th>\n      <td>https://www.zomato.com/SanchurroBangalore?cont...</td>\n      <td>1112, Next to KIMS Medical College, 17th Cross...</td>\n      <td>San Churro Cafe</td>\n      <td>Yes</td>\n      <td>No</td>\n      <td>3.8/5</td>\n      <td>918</td>\n      <td>+91 9663487993</td>\n      <td>Banashankari</td>\n      <td>Cafe, Casual Dining</td>\n      <td>Churros, Cannelloni, Minestrone Soup, Hot Choc...</td>\n      <td>Cafe, Mexican, Italian</td>\n      <td>800</td>\n      <td>[('Rated 3.0', \"RATED\\n  Ambience is not that ...</td>\n      <td>[]</td>\n      <td>Buffet</td>\n      <td>Banashankari</td>\n    </tr>\n    <tr>\n      <th>3</th>\n      <td>https://www.zomato.com/bangalore/addhuri-udupi...</td>\n      <td>1st Floor, Annakuteera, 3rd Stage, Banashankar...</td>\n      <td>Addhuri Udupi Bhojana</td>\n      <td>No</td>\n      <td>No</td>\n      <td>3.7/5</td>\n      <td>88</td>\n      <td>+91 9620009302</td>\n      <td>Banashankari</td>\n      <td>Quick Bites</td>\n      <td>Masala Dosa</td>\n      <td>South Indian, North Indian</td>\n      <td>300</td>\n      <td>[('Rated 4.0', \"RATED\\n  Great food and proper...</td>\n      <td>[]</td>\n      <td>Buffet</td>\n      <td>Banashankari</td>\n    </tr>\n    <tr>\n      <th>4</th>\n      <td>https://www.zomato.com/bangalore/grand-village...</td>\n      <td>10, 3rd Floor, Lakshmi Associates, Gandhi Baza...</td>\n      <td>Grand Village</td>\n      <td>No</td>\n      <td>No</td>\n      <td>3.8/5</td>\n      <td>166</td>\n      <td>+91 8026612447\\r\\n+91 9901210005</td>\n      <td>Basavanagudi</td>\n      <td>Casual Dining</td>\n      <td>Panipuri, Gol Gappe</td>\n      <td>North Indian, Rajasthani</td>\n      <td>600</td>\n      <td>[('Rated 4.0', 'RATED\\n  Very good restaurant ...</td>\n      <td>[]</td>\n      <td>Buffet</td>\n      <td>Banashankari</td>\n    </tr>\n  </tbody>\n</table>\n</div>"
     },
     "execution_count": 258,
     "metadata": {},
     "output_type": "execute_result"
    }
   ],
   "source": [
    "df = pd.read_csv('zomato.csv')\n",
    "df.head()"
   ],
   "metadata": {
    "collapsed": false,
    "ExecuteTime": {
     "end_time": "2024-01-31T18:48:36.215944610Z",
     "start_time": "2024-01-31T18:48:18.028153163Z"
    }
   },
   "id": "10891709bd253910",
   "execution_count": 258
  },
  {
   "cell_type": "markdown",
   "source": [
    "### Get the shape of the DataFrame: Rows and columns"
   ],
   "metadata": {
    "collapsed": false
   },
   "id": "aa95608abc492e6b"
  },
  {
   "cell_type": "code",
   "outputs": [
    {
     "data": {
      "text/plain": "(51717, 17)"
     },
     "execution_count": 259,
     "metadata": {},
     "output_type": "execute_result"
    }
   ],
   "source": [
    "df.shape"
   ],
   "metadata": {
    "collapsed": false,
    "ExecuteTime": {
     "end_time": "2024-01-31T18:48:36.714584265Z",
     "start_time": "2024-01-31T18:48:36.026395038Z"
    }
   },
   "id": "8070b4b195036b61",
   "execution_count": 259
  },
  {
   "cell_type": "markdown",
   "source": [
    "### Check columns"
   ],
   "metadata": {
    "collapsed": false
   },
   "id": "d0e210f58bf9d82e"
  },
  {
   "cell_type": "code",
   "outputs": [
    {
     "data": {
      "text/plain": "Index(['url', 'address', 'name', 'online_order', 'book_table', 'rate', 'votes',\n       'phone', 'location', 'rest_type', 'dish_liked', 'cuisines',\n       'approx_cost(for two people)', 'reviews_list', 'menu_item',\n       'listed_in(type)', 'listed_in(city)'],\n      dtype='object')"
     },
     "execution_count": 260,
     "metadata": {},
     "output_type": "execute_result"
    }
   ],
   "source": [
    "df.columns"
   ],
   "metadata": {
    "collapsed": false,
    "ExecuteTime": {
     "end_time": "2024-01-31T18:48:37.702482642Z",
     "start_time": "2024-01-31T18:48:36.134218170Z"
    }
   },
   "id": "dd3691a39873e236",
   "execution_count": 260
  },
  {
   "cell_type": "markdown",
   "source": [
    "### Drop redundant/unnecessary columns"
   ],
   "metadata": {
    "collapsed": false
   },
   "id": "137c4e5979fc75b"
  },
  {
   "cell_type": "code",
   "outputs": [],
   "source": [
    "# Remove url, address, phone, dish_liked, reviews_list, menu_item\n",
    "df = df.drop(['url', 'address', 'phone', 'dish_liked', 'reviews_list', 'menu_item'], axis=1)"
   ],
   "metadata": {
    "collapsed": false,
    "ExecuteTime": {
     "end_time": "2024-01-31T18:48:38.171894630Z",
     "start_time": "2024-01-31T18:48:37.189173565Z"
    }
   },
   "id": "94ea8dd5bc9ccf57",
   "execution_count": 261
  },
  {
   "cell_type": "markdown",
   "source": [
    "### View DataFrame once again"
   ],
   "metadata": {
    "collapsed": false
   },
   "id": "7a09865976e1ed52"
  },
  {
   "cell_type": "code",
   "outputs": [
    {
     "data": {
      "text/plain": "                    name online_order book_table   rate  votes      location  \\\n0                  Jalsa          Yes        Yes  4.1/5    775  Banashankari   \n1         Spice Elephant          Yes         No  4.1/5    787  Banashankari   \n2        San Churro Cafe          Yes         No  3.8/5    918  Banashankari   \n3  Addhuri Udupi Bhojana           No         No  3.7/5     88  Banashankari   \n4          Grand Village           No         No  3.8/5    166  Basavanagudi   \n\n             rest_type                        cuisines  \\\n0        Casual Dining  North Indian, Mughlai, Chinese   \n1        Casual Dining     Chinese, North Indian, Thai   \n2  Cafe, Casual Dining          Cafe, Mexican, Italian   \n3          Quick Bites      South Indian, North Indian   \n4        Casual Dining        North Indian, Rajasthani   \n\n  approx_cost(for two people) listed_in(type) listed_in(city)  \n0                         800          Buffet    Banashankari  \n1                         800          Buffet    Banashankari  \n2                         800          Buffet    Banashankari  \n3                         300          Buffet    Banashankari  \n4                         600          Buffet    Banashankari  ",
      "text/html": "<div>\n<style scoped>\n    .dataframe tbody tr th:only-of-type {\n        vertical-align: middle;\n    }\n\n    .dataframe tbody tr th {\n        vertical-align: top;\n    }\n\n    .dataframe thead th {\n        text-align: right;\n    }\n</style>\n<table border=\"1\" class=\"dataframe\">\n  <thead>\n    <tr style=\"text-align: right;\">\n      <th></th>\n      <th>name</th>\n      <th>online_order</th>\n      <th>book_table</th>\n      <th>rate</th>\n      <th>votes</th>\n      <th>location</th>\n      <th>rest_type</th>\n      <th>cuisines</th>\n      <th>approx_cost(for two people)</th>\n      <th>listed_in(type)</th>\n      <th>listed_in(city)</th>\n    </tr>\n  </thead>\n  <tbody>\n    <tr>\n      <th>0</th>\n      <td>Jalsa</td>\n      <td>Yes</td>\n      <td>Yes</td>\n      <td>4.1/5</td>\n      <td>775</td>\n      <td>Banashankari</td>\n      <td>Casual Dining</td>\n      <td>North Indian, Mughlai, Chinese</td>\n      <td>800</td>\n      <td>Buffet</td>\n      <td>Banashankari</td>\n    </tr>\n    <tr>\n      <th>1</th>\n      <td>Spice Elephant</td>\n      <td>Yes</td>\n      <td>No</td>\n      <td>4.1/5</td>\n      <td>787</td>\n      <td>Banashankari</td>\n      <td>Casual Dining</td>\n      <td>Chinese, North Indian, Thai</td>\n      <td>800</td>\n      <td>Buffet</td>\n      <td>Banashankari</td>\n    </tr>\n    <tr>\n      <th>2</th>\n      <td>San Churro Cafe</td>\n      <td>Yes</td>\n      <td>No</td>\n      <td>3.8/5</td>\n      <td>918</td>\n      <td>Banashankari</td>\n      <td>Cafe, Casual Dining</td>\n      <td>Cafe, Mexican, Italian</td>\n      <td>800</td>\n      <td>Buffet</td>\n      <td>Banashankari</td>\n    </tr>\n    <tr>\n      <th>3</th>\n      <td>Addhuri Udupi Bhojana</td>\n      <td>No</td>\n      <td>No</td>\n      <td>3.7/5</td>\n      <td>88</td>\n      <td>Banashankari</td>\n      <td>Quick Bites</td>\n      <td>South Indian, North Indian</td>\n      <td>300</td>\n      <td>Buffet</td>\n      <td>Banashankari</td>\n    </tr>\n    <tr>\n      <th>4</th>\n      <td>Grand Village</td>\n      <td>No</td>\n      <td>No</td>\n      <td>3.8/5</td>\n      <td>166</td>\n      <td>Basavanagudi</td>\n      <td>Casual Dining</td>\n      <td>North Indian, Rajasthani</td>\n      <td>600</td>\n      <td>Buffet</td>\n      <td>Banashankari</td>\n    </tr>\n  </tbody>\n</table>\n</div>"
     },
     "execution_count": 262,
     "metadata": {},
     "output_type": "execute_result"
    }
   ],
   "source": [
    "df.head()"
   ],
   "metadata": {
    "collapsed": false,
    "ExecuteTime": {
     "end_time": "2024-01-31T18:48:39.184644162Z",
     "start_time": "2024-01-31T18:48:38.687158213Z"
    }
   },
   "id": "61ca79ae963f1d58",
   "execution_count": 262
  },
  {
   "cell_type": "markdown",
   "source": [
    "### Get summary info on the DataFrame: \n",
    "- After dropping columns, see remaining columns\n",
    "- View non-null values in each column + data type"
   ],
   "metadata": {
    "collapsed": false
   },
   "id": "60e9d51b79ed3d7f"
  },
  {
   "cell_type": "code",
   "outputs": [
    {
     "name": "stdout",
     "output_type": "stream",
     "text": [
      "<class 'pandas.core.frame.DataFrame'>\n",
      "RangeIndex: 51717 entries, 0 to 51716\n",
      "Data columns (total 11 columns):\n",
      " #   Column                       Non-Null Count  Dtype \n",
      "---  ------                       --------------  ----- \n",
      " 0   name                         51717 non-null  object\n",
      " 1   online_order                 51717 non-null  object\n",
      " 2   book_table                   51717 non-null  object\n",
      " 3   rate                         43942 non-null  object\n",
      " 4   votes                        51717 non-null  int64 \n",
      " 5   location                     51696 non-null  object\n",
      " 6   rest_type                    51490 non-null  object\n",
      " 7   cuisines                     51672 non-null  object\n",
      " 8   approx_cost(for two people)  51371 non-null  object\n",
      " 9   listed_in(type)              51717 non-null  object\n",
      " 10  listed_in(city)              51717 non-null  object\n",
      "dtypes: int64(1), object(10)\n",
      "memory usage: 4.3+ MB\n"
     ]
    }
   ],
   "source": [
    "df.info()"
   ],
   "metadata": {
    "collapsed": false,
    "ExecuteTime": {
     "end_time": "2024-01-31T18:48:42.432919332Z",
     "start_time": "2024-01-31T18:48:39.012512056Z"
    }
   },
   "id": "cda11e6280dd9186",
   "execution_count": 263
  },
  {
   "cell_type": "markdown",
   "source": [
    "### Drop any duplicate rows"
   ],
   "metadata": {
    "collapsed": false
   },
   "id": "40ed8b701891563d"
  },
  {
   "cell_type": "code",
   "outputs": [
    {
     "data": {
      "text/plain": "(51717, 11)"
     },
     "execution_count": 264,
     "metadata": {},
     "output_type": "execute_result"
    }
   ],
   "source": [
    "df.shape"
   ],
   "metadata": {
    "collapsed": false,
    "ExecuteTime": {
     "end_time": "2024-01-31T18:48:43.142819431Z",
     "start_time": "2024-01-31T18:48:42.520064779Z"
    }
   },
   "id": "e426d528946c87aa",
   "execution_count": 264
  },
  {
   "cell_type": "code",
   "outputs": [],
   "source": [
    "df.drop_duplicates(inplace=True)"
   ],
   "metadata": {
    "collapsed": false,
    "ExecuteTime": {
     "end_time": "2024-01-31T18:48:44.745408350Z",
     "start_time": "2024-01-31T18:48:43.609950115Z"
    }
   },
   "id": "fc95a63a24c003cc",
   "execution_count": 265
  },
  {
   "cell_type": "code",
   "outputs": [
    {
     "data": {
      "text/plain": "(51609, 11)"
     },
     "execution_count": 266,
     "metadata": {},
     "output_type": "execute_result"
    }
   ],
   "source": [
    "df.shape"
   ],
   "metadata": {
    "collapsed": false,
    "ExecuteTime": {
     "end_time": "2024-01-31T18:48:44.853055503Z",
     "start_time": "2024-01-31T18:48:44.796087928Z"
    }
   },
   "id": "91dc8f406a88e2f2",
   "execution_count": 266
  },
  {
   "cell_type": "markdown",
   "source": [
    "__After dropping the duplicates, the number of rows has reduced by about 100__"
   ],
   "metadata": {
    "collapsed": false
   },
   "id": "3c64d9a81ec2b6d6"
  },
  {
   "cell_type": "markdown",
   "source": [
    "## Now Start Cleaning the Columns"
   ],
   "metadata": {
    "collapsed": false
   },
   "id": "fbf8a85dec3dffca"
  },
  {
   "cell_type": "code",
   "outputs": [
    {
     "data": {
      "text/plain": "                    name online_order book_table   rate  votes      location  \\\n0                  Jalsa          Yes        Yes  4.1/5    775  Banashankari   \n1         Spice Elephant          Yes         No  4.1/5    787  Banashankari   \n2        San Churro Cafe          Yes         No  3.8/5    918  Banashankari   \n3  Addhuri Udupi Bhojana           No         No  3.7/5     88  Banashankari   \n4          Grand Village           No         No  3.8/5    166  Basavanagudi   \n\n             rest_type                        cuisines  \\\n0        Casual Dining  North Indian, Mughlai, Chinese   \n1        Casual Dining     Chinese, North Indian, Thai   \n2  Cafe, Casual Dining          Cafe, Mexican, Italian   \n3          Quick Bites      South Indian, North Indian   \n4        Casual Dining        North Indian, Rajasthani   \n\n  approx_cost(for two people) listed_in(type) listed_in(city)  \n0                         800          Buffet    Banashankari  \n1                         800          Buffet    Banashankari  \n2                         800          Buffet    Banashankari  \n3                         300          Buffet    Banashankari  \n4                         600          Buffet    Banashankari  ",
      "text/html": "<div>\n<style scoped>\n    .dataframe tbody tr th:only-of-type {\n        vertical-align: middle;\n    }\n\n    .dataframe tbody tr th {\n        vertical-align: top;\n    }\n\n    .dataframe thead th {\n        text-align: right;\n    }\n</style>\n<table border=\"1\" class=\"dataframe\">\n  <thead>\n    <tr style=\"text-align: right;\">\n      <th></th>\n      <th>name</th>\n      <th>online_order</th>\n      <th>book_table</th>\n      <th>rate</th>\n      <th>votes</th>\n      <th>location</th>\n      <th>rest_type</th>\n      <th>cuisines</th>\n      <th>approx_cost(for two people)</th>\n      <th>listed_in(type)</th>\n      <th>listed_in(city)</th>\n    </tr>\n  </thead>\n  <tbody>\n    <tr>\n      <th>0</th>\n      <td>Jalsa</td>\n      <td>Yes</td>\n      <td>Yes</td>\n      <td>4.1/5</td>\n      <td>775</td>\n      <td>Banashankari</td>\n      <td>Casual Dining</td>\n      <td>North Indian, Mughlai, Chinese</td>\n      <td>800</td>\n      <td>Buffet</td>\n      <td>Banashankari</td>\n    </tr>\n    <tr>\n      <th>1</th>\n      <td>Spice Elephant</td>\n      <td>Yes</td>\n      <td>No</td>\n      <td>4.1/5</td>\n      <td>787</td>\n      <td>Banashankari</td>\n      <td>Casual Dining</td>\n      <td>Chinese, North Indian, Thai</td>\n      <td>800</td>\n      <td>Buffet</td>\n      <td>Banashankari</td>\n    </tr>\n    <tr>\n      <th>2</th>\n      <td>San Churro Cafe</td>\n      <td>Yes</td>\n      <td>No</td>\n      <td>3.8/5</td>\n      <td>918</td>\n      <td>Banashankari</td>\n      <td>Cafe, Casual Dining</td>\n      <td>Cafe, Mexican, Italian</td>\n      <td>800</td>\n      <td>Buffet</td>\n      <td>Banashankari</td>\n    </tr>\n    <tr>\n      <th>3</th>\n      <td>Addhuri Udupi Bhojana</td>\n      <td>No</td>\n      <td>No</td>\n      <td>3.7/5</td>\n      <td>88</td>\n      <td>Banashankari</td>\n      <td>Quick Bites</td>\n      <td>South Indian, North Indian</td>\n      <td>300</td>\n      <td>Buffet</td>\n      <td>Banashankari</td>\n    </tr>\n    <tr>\n      <th>4</th>\n      <td>Grand Village</td>\n      <td>No</td>\n      <td>No</td>\n      <td>3.8/5</td>\n      <td>166</td>\n      <td>Basavanagudi</td>\n      <td>Casual Dining</td>\n      <td>North Indian, Rajasthani</td>\n      <td>600</td>\n      <td>Buffet</td>\n      <td>Banashankari</td>\n    </tr>\n  </tbody>\n</table>\n</div>"
     },
     "execution_count": 267,
     "metadata": {},
     "output_type": "execute_result"
    }
   ],
   "source": [
    "df.head()"
   ],
   "metadata": {
    "collapsed": false,
    "ExecuteTime": {
     "end_time": "2024-01-31T18:48:46.777511637Z",
     "start_time": "2024-01-31T18:48:46.057629006Z"
    }
   },
   "id": "24c7e27119e3ccae",
   "execution_count": 267
  },
  {
   "cell_type": "markdown",
   "source": [
    "### Clean the 'rate' column"
   ],
   "metadata": {
    "collapsed": false
   },
   "id": "cc8d1d4410badbec"
  },
  {
   "cell_type": "markdown",
   "source": [
    "__Step 1: Check the data type__"
   ],
   "metadata": {
    "collapsed": false
   },
   "id": "14a81c892e251760"
  },
  {
   "cell_type": "code",
   "outputs": [
    {
     "data": {
      "text/plain": "str"
     },
     "execution_count": 268,
     "metadata": {},
     "output_type": "execute_result"
    }
   ],
   "source": [
    "type(df['rate'][0])"
   ],
   "metadata": {
    "collapsed": false,
    "ExecuteTime": {
     "end_time": "2024-01-31T18:48:46.789744211Z",
     "start_time": "2024-01-31T18:48:46.267308522Z"
    }
   },
   "id": "78393a35d906eef1",
   "execution_count": 268
  },
  {
   "cell_type": "markdown",
   "source": [
    "__Step 2: Check for unique values__\n",
    "- To find if any outliers exist"
   ],
   "metadata": {
    "collapsed": false
   },
   "id": "a5f394844ab3d173"
  },
  {
   "cell_type": "code",
   "outputs": [
    {
     "data": {
      "text/plain": "['4.1/5',\n '3.8/5',\n '3.7/5',\n '3.6/5',\n '4.6/5',\n '4.0/5',\n '4.2/5',\n '3.9/5',\n '3.1/5',\n '3.0/5',\n '3.2/5',\n '3.3/5',\n '2.8/5',\n '4.4/5',\n '4.3/5',\n 'NEW',\n '2.9/5',\n '3.5/5',\n nan,\n '2.6/5',\n '3.8 /5',\n '3.4/5',\n '4.5/5',\n '2.5/5',\n '2.7/5',\n '4.7/5',\n '2.4/5',\n '2.2/5',\n '2.3/5',\n '3.4 /5',\n '-',\n '3.6 /5',\n '4.8/5',\n '3.9 /5',\n '4.2 /5',\n '4.0 /5',\n '4.1 /5',\n '3.7 /5',\n '3.1 /5',\n '2.9 /5',\n '3.3 /5',\n '2.8 /5',\n '3.5 /5',\n '2.7 /5',\n '2.5 /5',\n '3.2 /5',\n '2.6 /5',\n '4.5 /5',\n '4.3 /5',\n '4.4 /5',\n '4.9/5',\n '2.1/5',\n '2.0/5',\n '1.8/5',\n '4.6 /5',\n '4.9 /5',\n '3.0 /5',\n '4.8 /5',\n '2.3 /5',\n '4.7 /5',\n '2.4 /5',\n '2.1 /5',\n '2.2 /5',\n '2.0 /5',\n '1.8 /5']"
     },
     "execution_count": 269,
     "metadata": {},
     "output_type": "execute_result"
    }
   ],
   "source": [
    "df['rate'].unique().tolist()"
   ],
   "metadata": {
    "collapsed": false,
    "ExecuteTime": {
     "end_time": "2024-01-31T18:48:46.930189823Z",
     "start_time": "2024-01-31T18:48:46.921147491Z"
    }
   },
   "id": "1ce73046561f9bf8",
   "execution_count": 269
  },
  {
   "cell_type": "markdown",
   "source": [
    "__Step 3: Replace \"NEW\" & \"-\" with NaN, then remove \"/5\" portion and return all values as floats__"
   ],
   "metadata": {
    "collapsed": false
   },
   "id": "eaeeb477c9cbbfb0"
  },
  {
   "cell_type": "code",
   "outputs": [
    {
     "data": {
      "text/plain": "0    4.1\n1    4.1\n2    3.8\n3    3.7\n4    3.8\nName: rate, dtype: float64"
     },
     "execution_count": 270,
     "metadata": {},
     "output_type": "execute_result"
    }
   ],
   "source": [
    "def handle_rate(value):\n",
    "    if value == '-' or value == 'NEW':\n",
    "        return np.nan\n",
    "    else:\n",
    "        value = float(str(value).split('/')[0])\n",
    "        return value\n",
    "\n",
    "# Overwrite the existing 'rate' column\n",
    "df['rate'] = df['rate'].apply(handle_rate)\n",
    "df['rate'].head()"
   ],
   "metadata": {
    "collapsed": false,
    "ExecuteTime": {
     "end_time": "2024-01-31T18:48:47.422116344Z",
     "start_time": "2024-01-31T18:48:47.000551452Z"
    }
   },
   "id": "aec3b4ad7f4982aa",
   "execution_count": 270
  },
  {
   "cell_type": "markdown",
   "source": [
    "__Step 4: Fill null values, 'nan' with mean of 'rate' column__"
   ],
   "metadata": {
    "collapsed": false
   },
   "id": "75b61664972bc42a"
  },
  {
   "cell_type": "code",
   "outputs": [
    {
     "data": {
      "text/plain": "[4.1,\n 3.8,\n 3.7,\n 3.6,\n 4.6,\n 4.0,\n 4.2,\n 3.9,\n 3.1,\n 3.0,\n 3.2,\n 3.3,\n 2.8,\n 4.4,\n 4.3,\n 3.7001,\n 2.9,\n 3.5,\n 2.6,\n 3.4,\n 4.5,\n 2.5,\n 2.7,\n 4.7,\n 2.4,\n 2.2,\n 2.3,\n 4.8,\n 4.9,\n 2.1,\n 2.0,\n 1.8]"
     },
     "execution_count": 274,
     "metadata": {},
     "output_type": "execute_result"
    }
   ],
   "source": [
    "# Pandas 3.0 doesn't allow this in future: df['rate'].fillna(df['rate'].mean(), inplace=True) \n",
    "# Nor this: df['rate'] = df['rate'].fillna(df['rate'].mean())\n",
    "# So to opt into future behavior, I apply this method: result.infer_objects(copy=False)\n",
    "# df['rate'] = df['rate'].fillna(df['rate'].mean()).infer_objects(copy=False)\n",
    "# type(df['rate'])\n",
    "\n",
    "df['rate'] = df['rate'].fillna(df['rate'].mean().round(4)) \n",
    "df['rate'].unique().tolist()"
   ],
   "metadata": {
    "collapsed": false,
    "ExecuteTime": {
     "end_time": "2024-01-31T18:50:37.221593425Z",
     "start_time": "2024-01-31T18:50:36.951163577Z"
    }
   },
   "id": "117c92fac89837df",
   "execution_count": 274
  },
  {
   "cell_type": "markdown",
   "source": [
    "__Step 5: Confirm all null values are eliminated__"
   ],
   "metadata": {
    "collapsed": false
   },
   "id": "74a598ee1eb72c8d"
  },
  {
   "cell_type": "code",
   "outputs": [
    {
     "data": {
      "text/plain": "0"
     },
     "execution_count": 276,
     "metadata": {},
     "output_type": "execute_result"
    }
   ],
   "source": [
    "# If the sum = 0, then all null values have been eliminated\n",
    "df['rate'].isnull().sum()"
   ],
   "metadata": {
    "collapsed": false,
    "ExecuteTime": {
     "end_time": "2024-01-31T18:51:45.029640369Z",
     "start_time": "2024-01-31T18:51:44.881650095Z"
    }
   },
   "id": "35c91687e603cdeb",
   "execution_count": 276
  },
  {
   "cell_type": "markdown",
   "source": [
    "### Now check DataFrame info"
   ],
   "metadata": {
    "collapsed": false
   },
   "id": "506b96dcc2acefa3"
  },
  {
   "cell_type": "code",
   "outputs": [
    {
     "name": "stdout",
     "output_type": "stream",
     "text": [
      "<class 'pandas.core.frame.DataFrame'>\n",
      "Index: 51609 entries, 0 to 51716\n",
      "Data columns (total 11 columns):\n",
      " #   Column                       Non-Null Count  Dtype  \n",
      "---  ------                       --------------  -----  \n",
      " 0   name                         51609 non-null  object \n",
      " 1   online_order                 51609 non-null  object \n",
      " 2   book_table                   51609 non-null  object \n",
      " 3   rate                         51609 non-null  float64\n",
      " 4   votes                        51609 non-null  int64  \n",
      " 5   location                     51588 non-null  object \n",
      " 6   rest_type                    51382 non-null  object \n",
      " 7   cuisines                     51564 non-null  object \n",
      " 8   approx_cost(for two people)  51265 non-null  object \n",
      " 9   listed_in(type)              51609 non-null  object \n",
      " 10  listed_in(city)              51609 non-null  object \n",
      "dtypes: float64(1), int64(1), object(9)\n",
      "memory usage: 6.7+ MB\n"
     ]
    }
   ],
   "source": [
    "df.info()"
   ],
   "metadata": {
    "collapsed": false,
    "ExecuteTime": {
     "end_time": "2024-01-31T18:52:33.651682489Z",
     "start_time": "2024-01-31T18:52:33.318737503Z"
    }
   },
   "id": "42a9647860b3d22f",
   "execution_count": 278
  },
  {
   "cell_type": "markdown",
   "source": [
    "### Drop all rows with null values"
   ],
   "metadata": {
    "collapsed": false
   },
   "id": "43c86953d7987f57"
  },
  {
   "cell_type": "code",
   "outputs": [],
   "source": [
    "df.dropna(inplace=True)"
   ],
   "metadata": {
    "collapsed": false,
    "ExecuteTime": {
     "end_time": "2024-01-31T19:06:07.501525069Z",
     "start_time": "2024-01-31T19:06:06.800699680Z"
    }
   },
   "id": "22c36fdf7419997f",
   "execution_count": 279
  },
  {
   "cell_type": "markdown",
   "source": [
    "__Check DataFrame info:__"
   ],
   "metadata": {
    "collapsed": false
   },
   "id": "632f07818be03e77"
  },
  {
   "cell_type": "code",
   "outputs": [
    {
     "name": "stdout",
     "output_type": "stream",
     "text": [
      "<class 'pandas.core.frame.DataFrame'>\n",
      "Index: 51042 entries, 0 to 51716\n",
      "Data columns (total 11 columns):\n",
      " #   Column                       Non-Null Count  Dtype  \n",
      "---  ------                       --------------  -----  \n",
      " 0   name                         51042 non-null  object \n",
      " 1   online_order                 51042 non-null  object \n",
      " 2   book_table                   51042 non-null  object \n",
      " 3   rate                         51042 non-null  float64\n",
      " 4   votes                        51042 non-null  int64  \n",
      " 5   location                     51042 non-null  object \n",
      " 6   rest_type                    51042 non-null  object \n",
      " 7   cuisines                     51042 non-null  object \n",
      " 8   approx_cost(for two people)  51042 non-null  object \n",
      " 9   listed_in(type)              51042 non-null  object \n",
      " 10  listed_in(city)              51042 non-null  object \n",
      "dtypes: float64(1), int64(1), object(9)\n",
      "memory usage: 4.7+ MB\n"
     ]
    }
   ],
   "source": [
    "df.info()"
   ],
   "metadata": {
    "collapsed": false,
    "ExecuteTime": {
     "end_time": "2024-01-31T19:07:05.955960909Z",
     "start_time": "2024-01-31T19:07:05.468849543Z"
    }
   },
   "id": "3aeebd51410e97d",
   "execution_count": 281
  },
  {
   "cell_type": "code",
   "outputs": [
    {
     "data": {
      "text/plain": "                                              name online_order book_table  \\\n0                                            Jalsa          Yes        Yes   \n1                                   Spice Elephant          Yes         No   \n2                                  San Churro Cafe          Yes         No   \n3                            Addhuri Udupi Bhojana           No         No   \n4                                    Grand Village           No         No   \n5                                  Timepass Dinner          Yes         No   \n6  Rosewood International Hotel - Bar & Restaurant           No         No   \n7                                           Onesta          Yes        Yes   \n8                                   Penthouse Cafe          Yes         No   \n9                                        Smacznego          Yes         No   \n\n   rate  votes      location            rest_type  \\\n0   4.1    775  Banashankari        Casual Dining   \n1   4.1    787  Banashankari        Casual Dining   \n2   3.8    918  Banashankari  Cafe, Casual Dining   \n3   3.7     88  Banashankari          Quick Bites   \n4   3.8    166  Basavanagudi        Casual Dining   \n5   3.8    286  Basavanagudi        Casual Dining   \n6   3.6      8   Mysore Road        Casual Dining   \n7   4.6   2556  Banashankari  Casual Dining, Cafe   \n8   4.0    324  Banashankari                 Cafe   \n9   4.2    504  Banashankari                 Cafe   \n\n                                      cuisines approx_cost(for two people)  \\\n0               North Indian, Mughlai, Chinese                         800   \n1                  Chinese, North Indian, Thai                         800   \n2                       Cafe, Mexican, Italian                         800   \n3                   South Indian, North Indian                         300   \n4                     North Indian, Rajasthani                         600   \n5                                 North Indian                         600   \n6  North Indian, South Indian, Andhra, Chinese                         800   \n7                         Pizza, Cafe, Italian                         600   \n8                   Cafe, Italian, Continental                         700   \n9     Cafe, Mexican, Italian, Momos, Beverages                         550   \n\n  listed_in(type) listed_in(city)  \n0          Buffet    Banashankari  \n1          Buffet    Banashankari  \n2          Buffet    Banashankari  \n3          Buffet    Banashankari  \n4          Buffet    Banashankari  \n5          Buffet    Banashankari  \n6          Buffet    Banashankari  \n7           Cafes    Banashankari  \n8           Cafes    Banashankari  \n9           Cafes    Banashankari  ",
      "text/html": "<div>\n<style scoped>\n    .dataframe tbody tr th:only-of-type {\n        vertical-align: middle;\n    }\n\n    .dataframe tbody tr th {\n        vertical-align: top;\n    }\n\n    .dataframe thead th {\n        text-align: right;\n    }\n</style>\n<table border=\"1\" class=\"dataframe\">\n  <thead>\n    <tr style=\"text-align: right;\">\n      <th></th>\n      <th>name</th>\n      <th>online_order</th>\n      <th>book_table</th>\n      <th>rate</th>\n      <th>votes</th>\n      <th>location</th>\n      <th>rest_type</th>\n      <th>cuisines</th>\n      <th>approx_cost(for two people)</th>\n      <th>listed_in(type)</th>\n      <th>listed_in(city)</th>\n    </tr>\n  </thead>\n  <tbody>\n    <tr>\n      <th>0</th>\n      <td>Jalsa</td>\n      <td>Yes</td>\n      <td>Yes</td>\n      <td>4.1</td>\n      <td>775</td>\n      <td>Banashankari</td>\n      <td>Casual Dining</td>\n      <td>North Indian, Mughlai, Chinese</td>\n      <td>800</td>\n      <td>Buffet</td>\n      <td>Banashankari</td>\n    </tr>\n    <tr>\n      <th>1</th>\n      <td>Spice Elephant</td>\n      <td>Yes</td>\n      <td>No</td>\n      <td>4.1</td>\n      <td>787</td>\n      <td>Banashankari</td>\n      <td>Casual Dining</td>\n      <td>Chinese, North Indian, Thai</td>\n      <td>800</td>\n      <td>Buffet</td>\n      <td>Banashankari</td>\n    </tr>\n    <tr>\n      <th>2</th>\n      <td>San Churro Cafe</td>\n      <td>Yes</td>\n      <td>No</td>\n      <td>3.8</td>\n      <td>918</td>\n      <td>Banashankari</td>\n      <td>Cafe, Casual Dining</td>\n      <td>Cafe, Mexican, Italian</td>\n      <td>800</td>\n      <td>Buffet</td>\n      <td>Banashankari</td>\n    </tr>\n    <tr>\n      <th>3</th>\n      <td>Addhuri Udupi Bhojana</td>\n      <td>No</td>\n      <td>No</td>\n      <td>3.7</td>\n      <td>88</td>\n      <td>Banashankari</td>\n      <td>Quick Bites</td>\n      <td>South Indian, North Indian</td>\n      <td>300</td>\n      <td>Buffet</td>\n      <td>Banashankari</td>\n    </tr>\n    <tr>\n      <th>4</th>\n      <td>Grand Village</td>\n      <td>No</td>\n      <td>No</td>\n      <td>3.8</td>\n      <td>166</td>\n      <td>Basavanagudi</td>\n      <td>Casual Dining</td>\n      <td>North Indian, Rajasthani</td>\n      <td>600</td>\n      <td>Buffet</td>\n      <td>Banashankari</td>\n    </tr>\n    <tr>\n      <th>5</th>\n      <td>Timepass Dinner</td>\n      <td>Yes</td>\n      <td>No</td>\n      <td>3.8</td>\n      <td>286</td>\n      <td>Basavanagudi</td>\n      <td>Casual Dining</td>\n      <td>North Indian</td>\n      <td>600</td>\n      <td>Buffet</td>\n      <td>Banashankari</td>\n    </tr>\n    <tr>\n      <th>6</th>\n      <td>Rosewood International Hotel - Bar &amp; Restaurant</td>\n      <td>No</td>\n      <td>No</td>\n      <td>3.6</td>\n      <td>8</td>\n      <td>Mysore Road</td>\n      <td>Casual Dining</td>\n      <td>North Indian, South Indian, Andhra, Chinese</td>\n      <td>800</td>\n      <td>Buffet</td>\n      <td>Banashankari</td>\n    </tr>\n    <tr>\n      <th>7</th>\n      <td>Onesta</td>\n      <td>Yes</td>\n      <td>Yes</td>\n      <td>4.6</td>\n      <td>2556</td>\n      <td>Banashankari</td>\n      <td>Casual Dining, Cafe</td>\n      <td>Pizza, Cafe, Italian</td>\n      <td>600</td>\n      <td>Cafes</td>\n      <td>Banashankari</td>\n    </tr>\n    <tr>\n      <th>8</th>\n      <td>Penthouse Cafe</td>\n      <td>Yes</td>\n      <td>No</td>\n      <td>4.0</td>\n      <td>324</td>\n      <td>Banashankari</td>\n      <td>Cafe</td>\n      <td>Cafe, Italian, Continental</td>\n      <td>700</td>\n      <td>Cafes</td>\n      <td>Banashankari</td>\n    </tr>\n    <tr>\n      <th>9</th>\n      <td>Smacznego</td>\n      <td>Yes</td>\n      <td>No</td>\n      <td>4.2</td>\n      <td>504</td>\n      <td>Banashankari</td>\n      <td>Cafe</td>\n      <td>Cafe, Mexican, Italian, Momos, Beverages</td>\n      <td>550</td>\n      <td>Cafes</td>\n      <td>Banashankari</td>\n    </tr>\n  </tbody>\n</table>\n</div>"
     },
     "execution_count": 283,
     "metadata": {},
     "output_type": "execute_result"
    }
   ],
   "source": [
    "df.head(10)"
   ],
   "metadata": {
    "collapsed": false,
    "ExecuteTime": {
     "end_time": "2024-01-31T19:19:17.938791092Z",
     "start_time": "2024-01-31T19:19:16.794501022Z"
    }
   },
   "id": "e466100e003900d9",
   "execution_count": 283
  },
  {
   "cell_type": "code",
   "outputs": [],
   "source": [],
   "metadata": {
    "collapsed": false
   },
   "id": "1f0ac657b86004ec"
  }
 ],
 "metadata": {
  "kernelspec": {
   "display_name": "Python 3",
   "language": "python",
   "name": "python3"
  },
  "language_info": {
   "codemirror_mode": {
    "name": "ipython",
    "version": 2
   },
   "file_extension": ".py",
   "mimetype": "text/x-python",
   "name": "python",
   "nbconvert_exporter": "python",
   "pygments_lexer": "ipython2",
   "version": "2.7.6"
  }
 },
 "nbformat": 4,
 "nbformat_minor": 5
}
